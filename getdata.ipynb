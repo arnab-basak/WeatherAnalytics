{
 "cells": [
  {
   "cell_type": "code",
   "execution_count": 15,
   "id": "2f671549",
   "metadata": {},
   "outputs": [],
   "source": [
    "import requests\n",
    "import pandas as pd\n",
    "from datetime import datetime\n",
    "from minio import Minio\n",
    "from io import BytesIO\n"
   ]
  },
  {
   "cell_type": "code",
   "execution_count": 16,
   "id": "dfa53a5a",
   "metadata": {},
   "outputs": [
    {
     "name": "stdout",
     "output_type": "stream",
     "text": [
      "Connecting with user: admin\n"
     ]
    }
   ],
   "source": [
    "from dotenv import load_dotenv\n",
    "import os\n",
    "\n",
    "# Load from .env file\n",
    "load_dotenv()\n",
    "\n",
    "# Access credentials\n",
    "MINIO_USER = os.getenv(\"MINIO_ROOT_USER\")\n",
    "MINIO_PASS = os.getenv(\"MINIO_ROOT_PASSWORD\")\n",
    "WEATHER_API = os.getenv(\"WEATHERSTACK_API_KEY\")\n",
    "\n",
    "print(f\"Connecting with user: {MINIO_USER}\")\n",
    "\n",
    "from minio import Minio\n",
    "\n",
    "client = Minio(\n",
    "    \"localhost:9000\",\n",
    "    access_key=MINIO_USER,\n",
    "    secret_key=MINIO_PASS,\n",
    "    secure=False\n",
    ")"
   ]
  },
  {
   "cell_type": "code",
   "execution_count": 17,
   "id": "d2c4d6ec",
   "metadata": {},
   "outputs": [
    {
     "data": {
      "text/plain": [
       "'2c79a093264c6ee10ec3770bf159a757'"
      ]
     },
     "execution_count": 17,
     "metadata": {},
     "output_type": "execute_result"
    }
   ],
   "source": [
    "WEATHER_API"
   ]
  },
  {
   "cell_type": "code",
   "execution_count": null,
   "id": "dfe11a90",
   "metadata": {},
   "outputs": [
    {
     "name": "stdout",
     "output_type": "stream",
     "text": [
      "{'success': False, 'error': {'code': 101, 'type': 'missing_access_key', 'info': 'You have not supplied an API Access Key. [Required format: access_key=YOUR_ACCESS_KEY]'}}\n"
     ]
    }
   ],
   "source": [
    "url = \"https://api.weatherstack.com/historical?access_key= {WEATHER_API}\"\n",
    "\n",
    "url = \"http://api.weatherstack.com/historical? access_key = 67de60298e64d9c7415ab36307a6cb81\"\n",
    "\n",
    "querystring = {\"query\":\"Kolkata\", \"historical_date_start\":\"2022-05-1\", \"historical_date_end\":\"2025-05-1\"}\n",
    "\n",
    "response = requests.get(url, params=querystring)\n",
    "\n",
    "print(response.json())"
   ]
  }
 ],
 "metadata": {
  "kernelspec": {
   "display_name": "venv",
   "language": "python",
   "name": "python3"
  },
  "language_info": {
   "codemirror_mode": {
    "name": "ipython",
    "version": 3
   },
   "file_extension": ".py",
   "mimetype": "text/x-python",
   "name": "python",
   "nbconvert_exporter": "python",
   "pygments_lexer": "ipython3",
   "version": "3.12.5"
  }
 },
 "nbformat": 4,
 "nbformat_minor": 5
}
