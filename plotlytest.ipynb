{
 "cells": [
  {
   "cell_type": "code",
   "execution_count": 1,
   "id": "a9acd862",
   "metadata": {},
   "outputs": [],
   "source": [
    "import numpy as np\n",
    "import plotly.express as px"
   ]
  },
  {
   "cell_type": "code",
   "execution_count": 2,
   "id": "a59b9e28",
   "metadata": {},
   "outputs": [],
   "source": [
    " from datetime import datetime"
   ]
  },
  {
   "cell_type": "code",
   "execution_count": 3,
   "id": "fc40b029",
   "metadata": {},
   "outputs": [],
   "source": [
    "import plotly.graph_objects as go"
   ]
  },
  {
   "cell_type": "code",
   "execution_count": 4,
   "id": "810b55b1",
   "metadata": {},
   "outputs": [],
   "source": [
    "from minio import Minio\n",
    "from dotenv import load_dotenv\n",
    "import os\n",
    "import pandas as pd\n",
    "from io import BytesIO\n",
    "\n",
    "# Load credentials from .env\n",
    "load_dotenv()\n",
    "\n",
    "# Initialize MinIO client\n",
    "client = Minio(\n",
    "    \"localhost:9000\",\n",
    "    access_key=os.getenv(\"MINIO_ROOT_USER\"),\n",
    "    secret_key=os.getenv(\"MINIO_ROOT_PASSWORD\"),\n",
    "    secure=False\n",
    ")\n",
    "\n",
    "BUCKET_NAME = \"minio1\"\n",
    "OBJECT_NAME = \"weather_csv_2022_25.csv\"\n",
    "\n",
    "# Fetch object as a stream\n",
    "response = client.get_object(bucket_name=BUCKET_NAME, object_name=OBJECT_NAME)\n",
    "\n",
    "# Read into pandas DataFrame\n",
    "df = pd.read_csv(BytesIO(response.read()))"
   ]
  },
  {
   "cell_type": "code",
   "execution_count": 5,
   "id": "dccfd49b",
   "metadata": {},
   "outputs": [
    {
     "data": {
      "text/html": [
       "<div>\n",
       "<style scoped>\n",
       "    .dataframe tbody tr th:only-of-type {\n",
       "        vertical-align: middle;\n",
       "    }\n",
       "\n",
       "    .dataframe tbody tr th {\n",
       "        vertical-align: top;\n",
       "    }\n",
       "\n",
       "    .dataframe thead th {\n",
       "        text-align: right;\n",
       "    }\n",
       "</style>\n",
       "<table border=\"1\" class=\"dataframe\">\n",
       "  <thead>\n",
       "    <tr style=\"text-align: right;\">\n",
       "      <th></th>\n",
       "      <th>date</th>\n",
       "      <th>relative_humidity_2m</th>\n",
       "      <th>rain</th>\n",
       "      <th>apparent_temperature</th>\n",
       "      <th>soil_temperature_0_to_7cm</th>\n",
       "      <th>temperature_2m</th>\n",
       "      <th>precipitation</th>\n",
       "      <th>pressure_msl</th>\n",
       "      <th>wind_speed_10m</th>\n",
       "      <th>soil_moisture_0_to_7cm</th>\n",
       "    </tr>\n",
       "  </thead>\n",
       "  <tbody>\n",
       "    <tr>\n",
       "      <th>0</th>\n",
       "      <td>2022-01-01 00:00:00+00:00</td>\n",
       "      <td>91.885510</td>\n",
       "      <td>0.0</td>\n",
       "      <td>13.656174</td>\n",
       "      <td>17.980500</td>\n",
       "      <td>14.130500</td>\n",
       "      <td>0.0</td>\n",
       "      <td>1019.7</td>\n",
       "      <td>9.387650</td>\n",
       "      <td>0.206</td>\n",
       "    </tr>\n",
       "    <tr>\n",
       "      <th>1</th>\n",
       "      <td>2022-01-01 01:00:00+00:00</td>\n",
       "      <td>91.582184</td>\n",
       "      <td>0.0</td>\n",
       "      <td>13.572619</td>\n",
       "      <td>17.330500</td>\n",
       "      <td>14.080501</td>\n",
       "      <td>0.0</td>\n",
       "      <td>1020.5</td>\n",
       "      <td>9.387650</td>\n",
       "      <td>0.206</td>\n",
       "    </tr>\n",
       "    <tr>\n",
       "      <th>2</th>\n",
       "      <td>2022-01-01 02:00:00+00:00</td>\n",
       "      <td>85.329010</td>\n",
       "      <td>0.0</td>\n",
       "      <td>14.711945</td>\n",
       "      <td>17.330500</td>\n",
       "      <td>15.380500</td>\n",
       "      <td>0.0</td>\n",
       "      <td>1021.2</td>\n",
       "      <td>10.948973</td>\n",
       "      <td>0.206</td>\n",
       "    </tr>\n",
       "    <tr>\n",
       "      <th>3</th>\n",
       "      <td>2022-01-01 03:00:00+00:00</td>\n",
       "      <td>78.090546</td>\n",
       "      <td>0.0</td>\n",
       "      <td>16.581074</td>\n",
       "      <td>18.230500</td>\n",
       "      <td>17.130499</td>\n",
       "      <td>0.0</td>\n",
       "      <td>1021.7</td>\n",
       "      <td>10.948973</td>\n",
       "      <td>0.206</td>\n",
       "    </tr>\n",
       "    <tr>\n",
       "      <th>4</th>\n",
       "      <td>2022-01-01 04:00:00+00:00</td>\n",
       "      <td>70.042400</td>\n",
       "      <td>0.0</td>\n",
       "      <td>18.968067</td>\n",
       "      <td>19.630499</td>\n",
       "      <td>19.330500</td>\n",
       "      <td>0.0</td>\n",
       "      <td>1022.1</td>\n",
       "      <td>10.739833</td>\n",
       "      <td>0.206</td>\n",
       "    </tr>\n",
       "  </tbody>\n",
       "</table>\n",
       "</div>"
      ],
      "text/plain": [
       "                        date  relative_humidity_2m  rain  \\\n",
       "0  2022-01-01 00:00:00+00:00             91.885510   0.0   \n",
       "1  2022-01-01 01:00:00+00:00             91.582184   0.0   \n",
       "2  2022-01-01 02:00:00+00:00             85.329010   0.0   \n",
       "3  2022-01-01 03:00:00+00:00             78.090546   0.0   \n",
       "4  2022-01-01 04:00:00+00:00             70.042400   0.0   \n",
       "\n",
       "   apparent_temperature  soil_temperature_0_to_7cm  temperature_2m  \\\n",
       "0             13.656174                  17.980500       14.130500   \n",
       "1             13.572619                  17.330500       14.080501   \n",
       "2             14.711945                  17.330500       15.380500   \n",
       "3             16.581074                  18.230500       17.130499   \n",
       "4             18.968067                  19.630499       19.330500   \n",
       "\n",
       "   precipitation  pressure_msl  wind_speed_10m  soil_moisture_0_to_7cm  \n",
       "0            0.0        1019.7        9.387650                   0.206  \n",
       "1            0.0        1020.5        9.387650                   0.206  \n",
       "2            0.0        1021.2       10.948973                   0.206  \n",
       "3            0.0        1021.7       10.948973                   0.206  \n",
       "4            0.0        1022.1       10.739833                   0.206  "
      ]
     },
     "execution_count": 5,
     "metadata": {},
     "output_type": "execute_result"
    }
   ],
   "source": [
    "df.head()"
   ]
  },
  {
   "cell_type": "code",
   "execution_count": 6,
   "id": "cb0f172a",
   "metadata": {},
   "outputs": [],
   "source": [
    "df['date']=pd.to_datetime(df['date'])\n",
    "df['month'] = df['date'].dt.month\n",
    "df['year'] = df['date'].dt.year\n",
    "df['day'] = df['date'].dt.day\n",
    "df['week'] = df['date'].dt.isocalendar().week"
   ]
  },
  {
   "cell_type": "code",
   "execution_count": 7,
   "id": "20731756",
   "metadata": {},
   "outputs": [
    {
     "data": {
      "text/html": [
       "<div>\n",
       "<style scoped>\n",
       "    .dataframe tbody tr th:only-of-type {\n",
       "        vertical-align: middle;\n",
       "    }\n",
       "\n",
       "    .dataframe tbody tr th {\n",
       "        vertical-align: top;\n",
       "    }\n",
       "\n",
       "    .dataframe thead th {\n",
       "        text-align: right;\n",
       "    }\n",
       "</style>\n",
       "<table border=\"1\" class=\"dataframe\">\n",
       "  <thead>\n",
       "    <tr style=\"text-align: right;\">\n",
       "      <th></th>\n",
       "      <th>date</th>\n",
       "      <th>relative_humidity_2m</th>\n",
       "      <th>rain</th>\n",
       "      <th>apparent_temperature</th>\n",
       "      <th>soil_temperature_0_to_7cm</th>\n",
       "      <th>temperature_2m</th>\n",
       "      <th>precipitation</th>\n",
       "      <th>pressure_msl</th>\n",
       "      <th>wind_speed_10m</th>\n",
       "      <th>soil_moisture_0_to_7cm</th>\n",
       "      <th>month</th>\n",
       "      <th>year</th>\n",
       "      <th>day</th>\n",
       "      <th>week</th>\n",
       "    </tr>\n",
       "  </thead>\n",
       "  <tbody>\n",
       "    <tr>\n",
       "      <th>0</th>\n",
       "      <td>2022-01-01 00:00:00+00:00</td>\n",
       "      <td>91.885510</td>\n",
       "      <td>0.0</td>\n",
       "      <td>13.656174</td>\n",
       "      <td>17.980500</td>\n",
       "      <td>14.130500</td>\n",
       "      <td>0.0</td>\n",
       "      <td>1019.7</td>\n",
       "      <td>9.387650</td>\n",
       "      <td>0.206</td>\n",
       "      <td>1</td>\n",
       "      <td>2022</td>\n",
       "      <td>1</td>\n",
       "      <td>52</td>\n",
       "    </tr>\n",
       "    <tr>\n",
       "      <th>1</th>\n",
       "      <td>2022-01-01 01:00:00+00:00</td>\n",
       "      <td>91.582184</td>\n",
       "      <td>0.0</td>\n",
       "      <td>13.572619</td>\n",
       "      <td>17.330500</td>\n",
       "      <td>14.080501</td>\n",
       "      <td>0.0</td>\n",
       "      <td>1020.5</td>\n",
       "      <td>9.387650</td>\n",
       "      <td>0.206</td>\n",
       "      <td>1</td>\n",
       "      <td>2022</td>\n",
       "      <td>1</td>\n",
       "      <td>52</td>\n",
       "    </tr>\n",
       "    <tr>\n",
       "      <th>2</th>\n",
       "      <td>2022-01-01 02:00:00+00:00</td>\n",
       "      <td>85.329010</td>\n",
       "      <td>0.0</td>\n",
       "      <td>14.711945</td>\n",
       "      <td>17.330500</td>\n",
       "      <td>15.380500</td>\n",
       "      <td>0.0</td>\n",
       "      <td>1021.2</td>\n",
       "      <td>10.948973</td>\n",
       "      <td>0.206</td>\n",
       "      <td>1</td>\n",
       "      <td>2022</td>\n",
       "      <td>1</td>\n",
       "      <td>52</td>\n",
       "    </tr>\n",
       "    <tr>\n",
       "      <th>3</th>\n",
       "      <td>2022-01-01 03:00:00+00:00</td>\n",
       "      <td>78.090546</td>\n",
       "      <td>0.0</td>\n",
       "      <td>16.581074</td>\n",
       "      <td>18.230500</td>\n",
       "      <td>17.130499</td>\n",
       "      <td>0.0</td>\n",
       "      <td>1021.7</td>\n",
       "      <td>10.948973</td>\n",
       "      <td>0.206</td>\n",
       "      <td>1</td>\n",
       "      <td>2022</td>\n",
       "      <td>1</td>\n",
       "      <td>52</td>\n",
       "    </tr>\n",
       "    <tr>\n",
       "      <th>4</th>\n",
       "      <td>2022-01-01 04:00:00+00:00</td>\n",
       "      <td>70.042400</td>\n",
       "      <td>0.0</td>\n",
       "      <td>18.968067</td>\n",
       "      <td>19.630499</td>\n",
       "      <td>19.330500</td>\n",
       "      <td>0.0</td>\n",
       "      <td>1022.1</td>\n",
       "      <td>10.739833</td>\n",
       "      <td>0.206</td>\n",
       "      <td>1</td>\n",
       "      <td>2022</td>\n",
       "      <td>1</td>\n",
       "      <td>52</td>\n",
       "    </tr>\n",
       "    <tr>\n",
       "      <th>...</th>\n",
       "      <td>...</td>\n",
       "      <td>...</td>\n",
       "      <td>...</td>\n",
       "      <td>...</td>\n",
       "      <td>...</td>\n",
       "      <td>...</td>\n",
       "      <td>...</td>\n",
       "      <td>...</td>\n",
       "      <td>...</td>\n",
       "      <td>...</td>\n",
       "      <td>...</td>\n",
       "      <td>...</td>\n",
       "      <td>...</td>\n",
       "      <td>...</td>\n",
       "    </tr>\n",
       "    <tr>\n",
       "      <th>26371</th>\n",
       "      <td>2025-01-03 19:00:00+00:00</td>\n",
       "      <td>86.248840</td>\n",
       "      <td>0.0</td>\n",
       "      <td>16.865656</td>\n",
       "      <td>17.680500</td>\n",
       "      <td>16.180500</td>\n",
       "      <td>0.0</td>\n",
       "      <td>1014.5</td>\n",
       "      <td>3.931259</td>\n",
       "      <td>0.090</td>\n",
       "      <td>1</td>\n",
       "      <td>2025</td>\n",
       "      <td>3</td>\n",
       "      <td>1</td>\n",
       "    </tr>\n",
       "    <tr>\n",
       "      <th>26372</th>\n",
       "      <td>2025-01-03 20:00:00+00:00</td>\n",
       "      <td>87.338066</td>\n",
       "      <td>0.0</td>\n",
       "      <td>16.411158</td>\n",
       "      <td>17.130499</td>\n",
       "      <td>15.780500</td>\n",
       "      <td>0.0</td>\n",
       "      <td>1013.9</td>\n",
       "      <td>3.818376</td>\n",
       "      <td>0.090</td>\n",
       "      <td>1</td>\n",
       "      <td>2025</td>\n",
       "      <td>3</td>\n",
       "      <td>1</td>\n",
       "    </tr>\n",
       "    <tr>\n",
       "      <th>26373</th>\n",
       "      <td>2025-01-03 21:00:00+00:00</td>\n",
       "      <td>87.894150</td>\n",
       "      <td>0.0</td>\n",
       "      <td>16.233744</td>\n",
       "      <td>16.630499</td>\n",
       "      <td>15.630500</td>\n",
       "      <td>0.0</td>\n",
       "      <td>1013.5</td>\n",
       "      <td>3.885665</td>\n",
       "      <td>0.091</td>\n",
       "      <td>1</td>\n",
       "      <td>2025</td>\n",
       "      <td>3</td>\n",
       "      <td>1</td>\n",
       "    </tr>\n",
       "    <tr>\n",
       "      <th>26374</th>\n",
       "      <td>2025-01-03 22:00:00+00:00</td>\n",
       "      <td>89.031685</td>\n",
       "      <td>0.0</td>\n",
       "      <td>15.853920</td>\n",
       "      <td>16.280499</td>\n",
       "      <td>15.480500</td>\n",
       "      <td>0.0</td>\n",
       "      <td>1013.2</td>\n",
       "      <td>5.582902</td>\n",
       "      <td>0.091</td>\n",
       "      <td>1</td>\n",
       "      <td>2025</td>\n",
       "      <td>3</td>\n",
       "      <td>1</td>\n",
       "    </tr>\n",
       "    <tr>\n",
       "      <th>26375</th>\n",
       "      <td>2025-01-03 23:00:00+00:00</td>\n",
       "      <td>91.337730</td>\n",
       "      <td>0.0</td>\n",
       "      <td>15.161446</td>\n",
       "      <td>15.980500</td>\n",
       "      <td>14.930500</td>\n",
       "      <td>0.0</td>\n",
       "      <td>1013.5</td>\n",
       "      <td>6.198903</td>\n",
       "      <td>0.091</td>\n",
       "      <td>1</td>\n",
       "      <td>2025</td>\n",
       "      <td>3</td>\n",
       "      <td>1</td>\n",
       "    </tr>\n",
       "  </tbody>\n",
       "</table>\n",
       "<p>26376 rows × 14 columns</p>\n",
       "</div>"
      ],
      "text/plain": [
       "                           date  relative_humidity_2m  rain  \\\n",
       "0     2022-01-01 00:00:00+00:00             91.885510   0.0   \n",
       "1     2022-01-01 01:00:00+00:00             91.582184   0.0   \n",
       "2     2022-01-01 02:00:00+00:00             85.329010   0.0   \n",
       "3     2022-01-01 03:00:00+00:00             78.090546   0.0   \n",
       "4     2022-01-01 04:00:00+00:00             70.042400   0.0   \n",
       "...                         ...                   ...   ...   \n",
       "26371 2025-01-03 19:00:00+00:00             86.248840   0.0   \n",
       "26372 2025-01-03 20:00:00+00:00             87.338066   0.0   \n",
       "26373 2025-01-03 21:00:00+00:00             87.894150   0.0   \n",
       "26374 2025-01-03 22:00:00+00:00             89.031685   0.0   \n",
       "26375 2025-01-03 23:00:00+00:00             91.337730   0.0   \n",
       "\n",
       "       apparent_temperature  soil_temperature_0_to_7cm  temperature_2m  \\\n",
       "0                 13.656174                  17.980500       14.130500   \n",
       "1                 13.572619                  17.330500       14.080501   \n",
       "2                 14.711945                  17.330500       15.380500   \n",
       "3                 16.581074                  18.230500       17.130499   \n",
       "4                 18.968067                  19.630499       19.330500   \n",
       "...                     ...                        ...             ...   \n",
       "26371             16.865656                  17.680500       16.180500   \n",
       "26372             16.411158                  17.130499       15.780500   \n",
       "26373             16.233744                  16.630499       15.630500   \n",
       "26374             15.853920                  16.280499       15.480500   \n",
       "26375             15.161446                  15.980500       14.930500   \n",
       "\n",
       "       precipitation  pressure_msl  wind_speed_10m  soil_moisture_0_to_7cm  \\\n",
       "0                0.0        1019.7        9.387650                   0.206   \n",
       "1                0.0        1020.5        9.387650                   0.206   \n",
       "2                0.0        1021.2       10.948973                   0.206   \n",
       "3                0.0        1021.7       10.948973                   0.206   \n",
       "4                0.0        1022.1       10.739833                   0.206   \n",
       "...              ...           ...             ...                     ...   \n",
       "26371            0.0        1014.5        3.931259                   0.090   \n",
       "26372            0.0        1013.9        3.818376                   0.090   \n",
       "26373            0.0        1013.5        3.885665                   0.091   \n",
       "26374            0.0        1013.2        5.582902                   0.091   \n",
       "26375            0.0        1013.5        6.198903                   0.091   \n",
       "\n",
       "       month  year  day  week  \n",
       "0          1  2022    1    52  \n",
       "1          1  2022    1    52  \n",
       "2          1  2022    1    52  \n",
       "3          1  2022    1    52  \n",
       "4          1  2022    1    52  \n",
       "...      ...   ...  ...   ...  \n",
       "26371      1  2025    3     1  \n",
       "26372      1  2025    3     1  \n",
       "26373      1  2025    3     1  \n",
       "26374      1  2025    3     1  \n",
       "26375      1  2025    3     1  \n",
       "\n",
       "[26376 rows x 14 columns]"
      ]
     },
     "execution_count": 7,
     "metadata": {},
     "output_type": "execute_result"
    }
   ],
   "source": [
    "df"
   ]
  },
  {
   "cell_type": "code",
   "execution_count": 8,
   "id": "fc4487c2",
   "metadata": {},
   "outputs": [
    {
     "name": "stdout",
     "output_type": "stream",
     "text": [
      "5 2023\n"
     ]
    }
   ],
   "source": [
    "select_year=int(input())\n",
    "select_month=int(input())\n",
    "print(select_month,select_year)\n",
    "selected_df=df[(df['month'] == select_month) & (df['year'] == select_year)]"
   ]
  },
  {
   "cell_type": "code",
   "execution_count": 9,
   "id": "8bc6c523",
   "metadata": {},
   "outputs": [
    {
     "data": {
      "text/html": [
       "<div>\n",
       "<style scoped>\n",
       "    .dataframe tbody tr th:only-of-type {\n",
       "        vertical-align: middle;\n",
       "    }\n",
       "\n",
       "    .dataframe tbody tr th {\n",
       "        vertical-align: top;\n",
       "    }\n",
       "\n",
       "    .dataframe thead th {\n",
       "        text-align: right;\n",
       "    }\n",
       "</style>\n",
       "<table border=\"1\" class=\"dataframe\">\n",
       "  <thead>\n",
       "    <tr style=\"text-align: right;\">\n",
       "      <th></th>\n",
       "      <th>date</th>\n",
       "      <th>relative_humidity_2m</th>\n",
       "      <th>rain</th>\n",
       "      <th>apparent_temperature</th>\n",
       "      <th>soil_temperature_0_to_7cm</th>\n",
       "      <th>temperature_2m</th>\n",
       "      <th>precipitation</th>\n",
       "      <th>pressure_msl</th>\n",
       "      <th>wind_speed_10m</th>\n",
       "      <th>soil_moisture_0_to_7cm</th>\n",
       "      <th>month</th>\n",
       "      <th>year</th>\n",
       "      <th>day</th>\n",
       "      <th>week</th>\n",
       "    </tr>\n",
       "  </thead>\n",
       "  <tbody>\n",
       "    <tr>\n",
       "      <th>11640</th>\n",
       "      <td>2023-05-01 00:00:00+00:00</td>\n",
       "      <td>94.181755</td>\n",
       "      <td>0.0</td>\n",
       "      <td>29.830631</td>\n",
       "      <td>25.230500</td>\n",
       "      <td>24.780499</td>\n",
       "      <td>0.0</td>\n",
       "      <td>1007.6</td>\n",
       "      <td>6.287130</td>\n",
       "      <td>0.290</td>\n",
       "      <td>5</td>\n",
       "      <td>2023</td>\n",
       "      <td>1</td>\n",
       "      <td>18</td>\n",
       "    </tr>\n",
       "    <tr>\n",
       "      <th>11641</th>\n",
       "      <td>2023-05-01 01:00:00+00:00</td>\n",
       "      <td>92.511260</td>\n",
       "      <td>0.0</td>\n",
       "      <td>29.939590</td>\n",
       "      <td>25.630499</td>\n",
       "      <td>25.080500</td>\n",
       "      <td>0.0</td>\n",
       "      <td>1008.6</td>\n",
       "      <td>7.594207</td>\n",
       "      <td>0.289</td>\n",
       "      <td>5</td>\n",
       "      <td>2023</td>\n",
       "      <td>1</td>\n",
       "      <td>18</td>\n",
       "    </tr>\n",
       "    <tr>\n",
       "      <th>11642</th>\n",
       "      <td>2023-05-01 02:00:00+00:00</td>\n",
       "      <td>89.541990</td>\n",
       "      <td>0.0</td>\n",
       "      <td>30.641610</td>\n",
       "      <td>26.080500</td>\n",
       "      <td>25.730500</td>\n",
       "      <td>0.0</td>\n",
       "      <td>1009.3</td>\n",
       "      <td>7.653705</td>\n",
       "      <td>0.289</td>\n",
       "      <td>5</td>\n",
       "      <td>2023</td>\n",
       "      <td>1</td>\n",
       "      <td>18</td>\n",
       "    </tr>\n",
       "    <tr>\n",
       "      <th>11643</th>\n",
       "      <td>2023-05-01 03:00:00+00:00</td>\n",
       "      <td>82.721450</td>\n",
       "      <td>0.0</td>\n",
       "      <td>33.382023</td>\n",
       "      <td>27.630499</td>\n",
       "      <td>27.380499</td>\n",
       "      <td>0.0</td>\n",
       "      <td>1010.2</td>\n",
       "      <td>1.440000</td>\n",
       "      <td>0.288</td>\n",
       "      <td>5</td>\n",
       "      <td>2023</td>\n",
       "      <td>1</td>\n",
       "      <td>18</td>\n",
       "    </tr>\n",
       "    <tr>\n",
       "      <th>11644</th>\n",
       "      <td>2023-05-01 04:00:00+00:00</td>\n",
       "      <td>79.850770</td>\n",
       "      <td>0.0</td>\n",
       "      <td>33.263004</td>\n",
       "      <td>28.430500</td>\n",
       "      <td>27.830500</td>\n",
       "      <td>0.0</td>\n",
       "      <td>1010.4</td>\n",
       "      <td>4.693826</td>\n",
       "      <td>0.287</td>\n",
       "      <td>5</td>\n",
       "      <td>2023</td>\n",
       "      <td>1</td>\n",
       "      <td>18</td>\n",
       "    </tr>\n",
       "    <tr>\n",
       "      <th>...</th>\n",
       "      <td>...</td>\n",
       "      <td>...</td>\n",
       "      <td>...</td>\n",
       "      <td>...</td>\n",
       "      <td>...</td>\n",
       "      <td>...</td>\n",
       "      <td>...</td>\n",
       "      <td>...</td>\n",
       "      <td>...</td>\n",
       "      <td>...</td>\n",
       "      <td>...</td>\n",
       "      <td>...</td>\n",
       "      <td>...</td>\n",
       "      <td>...</td>\n",
       "    </tr>\n",
       "    <tr>\n",
       "      <th>12379</th>\n",
       "      <td>2023-05-31 19:00:00+00:00</td>\n",
       "      <td>90.073060</td>\n",
       "      <td>0.0</td>\n",
       "      <td>36.635204</td>\n",
       "      <td>31.880499</td>\n",
       "      <td>29.430500</td>\n",
       "      <td>0.0</td>\n",
       "      <td>1002.8</td>\n",
       "      <td>9.422101</td>\n",
       "      <td>0.177</td>\n",
       "      <td>5</td>\n",
       "      <td>2023</td>\n",
       "      <td>31</td>\n",
       "      <td>22</td>\n",
       "    </tr>\n",
       "    <tr>\n",
       "      <th>12380</th>\n",
       "      <td>2023-05-31 20:00:00+00:00</td>\n",
       "      <td>91.382965</td>\n",
       "      <td>0.0</td>\n",
       "      <td>36.446260</td>\n",
       "      <td>31.530499</td>\n",
       "      <td>29.180500</td>\n",
       "      <td>0.0</td>\n",
       "      <td>1002.5</td>\n",
       "      <td>9.007196</td>\n",
       "      <td>0.177</td>\n",
       "      <td>5</td>\n",
       "      <td>2023</td>\n",
       "      <td>31</td>\n",
       "      <td>22</td>\n",
       "    </tr>\n",
       "    <tr>\n",
       "      <th>12381</th>\n",
       "      <td>2023-05-31 21:00:00+00:00</td>\n",
       "      <td>92.717000</td>\n",
       "      <td>0.0</td>\n",
       "      <td>36.542564</td>\n",
       "      <td>31.230500</td>\n",
       "      <td>28.980500</td>\n",
       "      <td>0.0</td>\n",
       "      <td>1002.7</td>\n",
       "      <td>7.235910</td>\n",
       "      <td>0.177</td>\n",
       "      <td>5</td>\n",
       "      <td>2023</td>\n",
       "      <td>31</td>\n",
       "      <td>22</td>\n",
       "    </tr>\n",
       "    <tr>\n",
       "      <th>12382</th>\n",
       "      <td>2023-05-31 22:00:00+00:00</td>\n",
       "      <td>93.799700</td>\n",
       "      <td>0.0</td>\n",
       "      <td>36.475918</td>\n",
       "      <td>30.980500</td>\n",
       "      <td>28.830500</td>\n",
       "      <td>0.0</td>\n",
       "      <td>1003.1</td>\n",
       "      <td>6.924738</td>\n",
       "      <td>0.177</td>\n",
       "      <td>5</td>\n",
       "      <td>2023</td>\n",
       "      <td>31</td>\n",
       "      <td>22</td>\n",
       "    </tr>\n",
       "    <tr>\n",
       "      <th>12383</th>\n",
       "      <td>2023-05-31 23:00:00+00:00</td>\n",
       "      <td>95.175100</td>\n",
       "      <td>0.0</td>\n",
       "      <td>36.480160</td>\n",
       "      <td>30.780499</td>\n",
       "      <td>28.730500</td>\n",
       "      <td>0.0</td>\n",
       "      <td>1003.6</td>\n",
       "      <td>6.989935</td>\n",
       "      <td>0.177</td>\n",
       "      <td>5</td>\n",
       "      <td>2023</td>\n",
       "      <td>31</td>\n",
       "      <td>22</td>\n",
       "    </tr>\n",
       "  </tbody>\n",
       "</table>\n",
       "<p>744 rows × 14 columns</p>\n",
       "</div>"
      ],
      "text/plain": [
       "                           date  relative_humidity_2m  rain  \\\n",
       "11640 2023-05-01 00:00:00+00:00             94.181755   0.0   \n",
       "11641 2023-05-01 01:00:00+00:00             92.511260   0.0   \n",
       "11642 2023-05-01 02:00:00+00:00             89.541990   0.0   \n",
       "11643 2023-05-01 03:00:00+00:00             82.721450   0.0   \n",
       "11644 2023-05-01 04:00:00+00:00             79.850770   0.0   \n",
       "...                         ...                   ...   ...   \n",
       "12379 2023-05-31 19:00:00+00:00             90.073060   0.0   \n",
       "12380 2023-05-31 20:00:00+00:00             91.382965   0.0   \n",
       "12381 2023-05-31 21:00:00+00:00             92.717000   0.0   \n",
       "12382 2023-05-31 22:00:00+00:00             93.799700   0.0   \n",
       "12383 2023-05-31 23:00:00+00:00             95.175100   0.0   \n",
       "\n",
       "       apparent_temperature  soil_temperature_0_to_7cm  temperature_2m  \\\n",
       "11640             29.830631                  25.230500       24.780499   \n",
       "11641             29.939590                  25.630499       25.080500   \n",
       "11642             30.641610                  26.080500       25.730500   \n",
       "11643             33.382023                  27.630499       27.380499   \n",
       "11644             33.263004                  28.430500       27.830500   \n",
       "...                     ...                        ...             ...   \n",
       "12379             36.635204                  31.880499       29.430500   \n",
       "12380             36.446260                  31.530499       29.180500   \n",
       "12381             36.542564                  31.230500       28.980500   \n",
       "12382             36.475918                  30.980500       28.830500   \n",
       "12383             36.480160                  30.780499       28.730500   \n",
       "\n",
       "       precipitation  pressure_msl  wind_speed_10m  soil_moisture_0_to_7cm  \\\n",
       "11640            0.0        1007.6        6.287130                   0.290   \n",
       "11641            0.0        1008.6        7.594207                   0.289   \n",
       "11642            0.0        1009.3        7.653705                   0.289   \n",
       "11643            0.0        1010.2        1.440000                   0.288   \n",
       "11644            0.0        1010.4        4.693826                   0.287   \n",
       "...              ...           ...             ...                     ...   \n",
       "12379            0.0        1002.8        9.422101                   0.177   \n",
       "12380            0.0        1002.5        9.007196                   0.177   \n",
       "12381            0.0        1002.7        7.235910                   0.177   \n",
       "12382            0.0        1003.1        6.924738                   0.177   \n",
       "12383            0.0        1003.6        6.989935                   0.177   \n",
       "\n",
       "       month  year  day  week  \n",
       "11640      5  2023    1    18  \n",
       "11641      5  2023    1    18  \n",
       "11642      5  2023    1    18  \n",
       "11643      5  2023    1    18  \n",
       "11644      5  2023    1    18  \n",
       "...      ...   ...  ...   ...  \n",
       "12379      5  2023   31    22  \n",
       "12380      5  2023   31    22  \n",
       "12381      5  2023   31    22  \n",
       "12382      5  2023   31    22  \n",
       "12383      5  2023   31    22  \n",
       "\n",
       "[744 rows x 14 columns]"
      ]
     },
     "execution_count": 9,
     "metadata": {},
     "output_type": "execute_result"
    }
   ],
   "source": [
    "selected_df"
   ]
  },
  {
   "cell_type": "code",
   "execution_count": 10,
   "id": "fa7169c3",
   "metadata": {},
   "outputs": [],
   "source": [
    "monthly_df=selected_df.groupby(pd.Grouper(key='date', axis=0, freq='D')).mean().reset_index()"
   ]
  },
  {
   "cell_type": "code",
   "execution_count": 11,
   "id": "d8907130",
   "metadata": {},
   "outputs": [
    {
     "data": {
      "text/html": [
       "<div>\n",
       "<style scoped>\n",
       "    .dataframe tbody tr th:only-of-type {\n",
       "        vertical-align: middle;\n",
       "    }\n",
       "\n",
       "    .dataframe tbody tr th {\n",
       "        vertical-align: top;\n",
       "    }\n",
       "\n",
       "    .dataframe thead th {\n",
       "        text-align: right;\n",
       "    }\n",
       "</style>\n",
       "<table border=\"1\" class=\"dataframe\">\n",
       "  <thead>\n",
       "    <tr style=\"text-align: right;\">\n",
       "      <th></th>\n",
       "      <th>date</th>\n",
       "      <th>relative_humidity_2m</th>\n",
       "      <th>rain</th>\n",
       "      <th>apparent_temperature</th>\n",
       "      <th>soil_temperature_0_to_7cm</th>\n",
       "      <th>temperature_2m</th>\n",
       "      <th>precipitation</th>\n",
       "      <th>pressure_msl</th>\n",
       "      <th>wind_speed_10m</th>\n",
       "      <th>soil_moisture_0_to_7cm</th>\n",
       "      <th>month</th>\n",
       "      <th>year</th>\n",
       "      <th>day</th>\n",
       "      <th>week</th>\n",
       "    </tr>\n",
       "  </thead>\n",
       "  <tbody>\n",
       "    <tr>\n",
       "      <th>0</th>\n",
       "      <td>2023-05-01 00:00:00+00:00</td>\n",
       "      <td>78.801673</td>\n",
       "      <td>0.000000</td>\n",
       "      <td>31.552398</td>\n",
       "      <td>28.143000</td>\n",
       "      <td>26.990916</td>\n",
       "      <td>0.000000</td>\n",
       "      <td>1008.929167</td>\n",
       "      <td>5.805303</td>\n",
       "      <td>0.281833</td>\n",
       "      <td>5.0</td>\n",
       "      <td>2023.0</td>\n",
       "      <td>1.0</td>\n",
       "      <td>18.0</td>\n",
       "    </tr>\n",
       "    <tr>\n",
       "      <th>1</th>\n",
       "      <td>2023-05-02 00:00:00+00:00</td>\n",
       "      <td>67.732911</td>\n",
       "      <td>0.000000</td>\n",
       "      <td>32.433606</td>\n",
       "      <td>29.953416</td>\n",
       "      <td>28.528416</td>\n",
       "      <td>0.000000</td>\n",
       "      <td>1009.100000</td>\n",
       "      <td>7.800883</td>\n",
       "      <td>0.256667</td>\n",
       "      <td>5.0</td>\n",
       "      <td>2023.0</td>\n",
       "      <td>2.0</td>\n",
       "      <td>18.0</td>\n",
       "    </tr>\n",
       "    <tr>\n",
       "      <th>2</th>\n",
       "      <td>2023-05-03 00:00:00+00:00</td>\n",
       "      <td>80.032098</td>\n",
       "      <td>0.441667</td>\n",
       "      <td>31.886217</td>\n",
       "      <td>29.103416</td>\n",
       "      <td>27.315916</td>\n",
       "      <td>0.441667</td>\n",
       "      <td>1009.554167</td>\n",
       "      <td>8.912910</td>\n",
       "      <td>0.292375</td>\n",
       "      <td>5.0</td>\n",
       "      <td>2023.0</td>\n",
       "      <td>3.0</td>\n",
       "      <td>18.0</td>\n",
       "    </tr>\n",
       "    <tr>\n",
       "      <th>3</th>\n",
       "      <td>2023-05-04 00:00:00+00:00</td>\n",
       "      <td>79.318334</td>\n",
       "      <td>0.100000</td>\n",
       "      <td>30.862772</td>\n",
       "      <td>28.401333</td>\n",
       "      <td>26.959666</td>\n",
       "      <td>0.100000</td>\n",
       "      <td>1008.129167</td>\n",
       "      <td>10.472948</td>\n",
       "      <td>0.268125</td>\n",
       "      <td>5.0</td>\n",
       "      <td>2023.0</td>\n",
       "      <td>4.0</td>\n",
       "      <td>18.0</td>\n",
       "    </tr>\n",
       "    <tr>\n",
       "      <th>4</th>\n",
       "      <td>2023-05-05 00:00:00+00:00</td>\n",
       "      <td>78.370373</td>\n",
       "      <td>0.000000</td>\n",
       "      <td>34.445278</td>\n",
       "      <td>30.001333</td>\n",
       "      <td>28.957583</td>\n",
       "      <td>0.000000</td>\n",
       "      <td>1005.283333</td>\n",
       "      <td>7.673376</td>\n",
       "      <td>0.306458</td>\n",
       "      <td>5.0</td>\n",
       "      <td>2023.0</td>\n",
       "      <td>5.0</td>\n",
       "      <td>18.0</td>\n",
       "    </tr>\n",
       "    <tr>\n",
       "      <th>5</th>\n",
       "      <td>2023-05-06 00:00:00+00:00</td>\n",
       "      <td>76.011844</td>\n",
       "      <td>0.016667</td>\n",
       "      <td>35.538012</td>\n",
       "      <td>31.401333</td>\n",
       "      <td>29.740916</td>\n",
       "      <td>0.016667</td>\n",
       "      <td>1004.566667</td>\n",
       "      <td>7.405307</td>\n",
       "      <td>0.267292</td>\n",
       "      <td>5.0</td>\n",
       "      <td>2023.0</td>\n",
       "      <td>6.0</td>\n",
       "      <td>18.0</td>\n",
       "    </tr>\n",
       "    <tr>\n",
       "      <th>6</th>\n",
       "      <td>2023-05-07 00:00:00+00:00</td>\n",
       "      <td>67.641583</td>\n",
       "      <td>0.000000</td>\n",
       "      <td>35.706452</td>\n",
       "      <td>32.299250</td>\n",
       "      <td>30.868000</td>\n",
       "      <td>0.000000</td>\n",
       "      <td>1004.266667</td>\n",
       "      <td>7.789706</td>\n",
       "      <td>0.242000</td>\n",
       "      <td>5.0</td>\n",
       "      <td>2023.0</td>\n",
       "      <td>7.0</td>\n",
       "      <td>18.0</td>\n",
       "    </tr>\n",
       "    <tr>\n",
       "      <th>7</th>\n",
       "      <td>2023-05-08 00:00:00+00:00</td>\n",
       "      <td>64.804460</td>\n",
       "      <td>0.000000</td>\n",
       "      <td>36.578926</td>\n",
       "      <td>33.284666</td>\n",
       "      <td>31.740916</td>\n",
       "      <td>0.000000</td>\n",
       "      <td>1004.133333</td>\n",
       "      <td>8.470702</td>\n",
       "      <td>0.213792</td>\n",
       "      <td>5.0</td>\n",
       "      <td>2023.0</td>\n",
       "      <td>8.0</td>\n",
       "      <td>19.0</td>\n",
       "    </tr>\n",
       "    <tr>\n",
       "      <th>8</th>\n",
       "      <td>2023-05-09 00:00:00+00:00</td>\n",
       "      <td>65.331280</td>\n",
       "      <td>0.004167</td>\n",
       "      <td>37.132053</td>\n",
       "      <td>33.980500</td>\n",
       "      <td>32.174250</td>\n",
       "      <td>0.004167</td>\n",
       "      <td>1004.375000</td>\n",
       "      <td>10.223139</td>\n",
       "      <td>0.193583</td>\n",
       "      <td>5.0</td>\n",
       "      <td>2023.0</td>\n",
       "      <td>9.0</td>\n",
       "      <td>19.0</td>\n",
       "    </tr>\n",
       "    <tr>\n",
       "      <th>9</th>\n",
       "      <td>2023-05-10 00:00:00+00:00</td>\n",
       "      <td>71.294862</td>\n",
       "      <td>0.037500</td>\n",
       "      <td>36.936979</td>\n",
       "      <td>33.876333</td>\n",
       "      <td>31.449250</td>\n",
       "      <td>0.037500</td>\n",
       "      <td>1005.083333</td>\n",
       "      <td>12.077514</td>\n",
       "      <td>0.192792</td>\n",
       "      <td>5.0</td>\n",
       "      <td>2023.0</td>\n",
       "      <td>10.0</td>\n",
       "      <td>19.0</td>\n",
       "    </tr>\n",
       "    <tr>\n",
       "      <th>10</th>\n",
       "      <td>2023-05-11 00:00:00+00:00</td>\n",
       "      <td>71.567870</td>\n",
       "      <td>0.016667</td>\n",
       "      <td>36.358058</td>\n",
       "      <td>33.574249</td>\n",
       "      <td>31.090916</td>\n",
       "      <td>0.016667</td>\n",
       "      <td>1006.266667</td>\n",
       "      <td>10.742878</td>\n",
       "      <td>0.189292</td>\n",
       "      <td>5.0</td>\n",
       "      <td>2023.0</td>\n",
       "      <td>11.0</td>\n",
       "      <td>19.0</td>\n",
       "    </tr>\n",
       "    <tr>\n",
       "      <th>11</th>\n",
       "      <td>2023-05-12 00:00:00+00:00</td>\n",
       "      <td>66.680920</td>\n",
       "      <td>0.004167</td>\n",
       "      <td>36.393662</td>\n",
       "      <td>33.447166</td>\n",
       "      <td>31.518000</td>\n",
       "      <td>0.004167</td>\n",
       "      <td>1005.629167</td>\n",
       "      <td>9.030828</td>\n",
       "      <td>0.179167</td>\n",
       "      <td>5.0</td>\n",
       "      <td>2023.0</td>\n",
       "      <td>12.0</td>\n",
       "      <td>19.0</td>\n",
       "    </tr>\n",
       "    <tr>\n",
       "      <th>12</th>\n",
       "      <td>2023-05-13 00:00:00+00:00</td>\n",
       "      <td>68.227518</td>\n",
       "      <td>0.045833</td>\n",
       "      <td>35.317174</td>\n",
       "      <td>33.136749</td>\n",
       "      <td>30.661749</td>\n",
       "      <td>0.045833</td>\n",
       "      <td>1003.370833</td>\n",
       "      <td>10.796239</td>\n",
       "      <td>0.178292</td>\n",
       "      <td>5.0</td>\n",
       "      <td>2023.0</td>\n",
       "      <td>13.0</td>\n",
       "      <td>19.0</td>\n",
       "    </tr>\n",
       "    <tr>\n",
       "      <th>13</th>\n",
       "      <td>2023-05-14 00:00:00+00:00</td>\n",
       "      <td>52.439765</td>\n",
       "      <td>0.000000</td>\n",
       "      <td>32.512477</td>\n",
       "      <td>32.986750</td>\n",
       "      <td>30.868000</td>\n",
       "      <td>0.000000</td>\n",
       "      <td>1000.029167</td>\n",
       "      <td>14.559127</td>\n",
       "      <td>0.168542</td>\n",
       "      <td>5.0</td>\n",
       "      <td>2023.0</td>\n",
       "      <td>14.0</td>\n",
       "      <td>19.0</td>\n",
       "    </tr>\n",
       "    <tr>\n",
       "      <th>14</th>\n",
       "      <td>2023-05-15 00:00:00+00:00</td>\n",
       "      <td>70.730339</td>\n",
       "      <td>0.025000</td>\n",
       "      <td>33.218228</td>\n",
       "      <td>32.145083</td>\n",
       "      <td>29.711749</td>\n",
       "      <td>0.025000</td>\n",
       "      <td>1003.266667</td>\n",
       "      <td>15.385824</td>\n",
       "      <td>0.165208</td>\n",
       "      <td>5.0</td>\n",
       "      <td>2023.0</td>\n",
       "      <td>15.0</td>\n",
       "      <td>20.0</td>\n",
       "    </tr>\n",
       "    <tr>\n",
       "      <th>15</th>\n",
       "      <td>2023-05-16 00:00:00+00:00</td>\n",
       "      <td>76.219352</td>\n",
       "      <td>0.287500</td>\n",
       "      <td>36.547794</td>\n",
       "      <td>32.884666</td>\n",
       "      <td>31.240916</td>\n",
       "      <td>0.287500</td>\n",
       "      <td>1004.795833</td>\n",
       "      <td>17.341182</td>\n",
       "      <td>0.173083</td>\n",
       "      <td>5.0</td>\n",
       "      <td>2023.0</td>\n",
       "      <td>16.0</td>\n",
       "      <td>20.0</td>\n",
       "    </tr>\n",
       "    <tr>\n",
       "      <th>16</th>\n",
       "      <td>2023-05-17 00:00:00+00:00</td>\n",
       "      <td>76.017019</td>\n",
       "      <td>0.295833</td>\n",
       "      <td>34.317169</td>\n",
       "      <td>32.345083</td>\n",
       "      <td>29.857583</td>\n",
       "      <td>0.295833</td>\n",
       "      <td>1006.929167</td>\n",
       "      <td>16.941326</td>\n",
       "      <td>0.213458</td>\n",
       "      <td>5.0</td>\n",
       "      <td>2023.0</td>\n",
       "      <td>17.0</td>\n",
       "      <td>20.0</td>\n",
       "    </tr>\n",
       "    <tr>\n",
       "      <th>17</th>\n",
       "      <td>2023-05-18 00:00:00+00:00</td>\n",
       "      <td>85.355568</td>\n",
       "      <td>0.625000</td>\n",
       "      <td>34.073488</td>\n",
       "      <td>30.159666</td>\n",
       "      <td>28.713833</td>\n",
       "      <td>0.625000</td>\n",
       "      <td>1007.220833</td>\n",
       "      <td>14.443931</td>\n",
       "      <td>0.344958</td>\n",
       "      <td>5.0</td>\n",
       "      <td>2023.0</td>\n",
       "      <td>18.0</td>\n",
       "      <td>20.0</td>\n",
       "    </tr>\n",
       "    <tr>\n",
       "      <th>18</th>\n",
       "      <td>2023-05-19 00:00:00+00:00</td>\n",
       "      <td>81.498972</td>\n",
       "      <td>1.170833</td>\n",
       "      <td>35.051065</td>\n",
       "      <td>31.074250</td>\n",
       "      <td>29.630499</td>\n",
       "      <td>1.170833</td>\n",
       "      <td>1005.250000</td>\n",
       "      <td>14.859651</td>\n",
       "      <td>0.350125</td>\n",
       "      <td>5.0</td>\n",
       "      <td>2023.0</td>\n",
       "      <td>19.0</td>\n",
       "      <td>20.0</td>\n",
       "    </tr>\n",
       "    <tr>\n",
       "      <th>19</th>\n",
       "      <td>2023-05-20 00:00:00+00:00</td>\n",
       "      <td>76.104500</td>\n",
       "      <td>0.166667</td>\n",
       "      <td>36.611932</td>\n",
       "      <td>32.438833</td>\n",
       "      <td>30.872166</td>\n",
       "      <td>0.166667</td>\n",
       "      <td>1005.145833</td>\n",
       "      <td>13.045893</td>\n",
       "      <td>0.271750</td>\n",
       "      <td>5.0</td>\n",
       "      <td>2023.0</td>\n",
       "      <td>20.0</td>\n",
       "      <td>20.0</td>\n",
       "    </tr>\n",
       "    <tr>\n",
       "      <th>20</th>\n",
       "      <td>2023-05-21 00:00:00+00:00</td>\n",
       "      <td>76.969270</td>\n",
       "      <td>0.000000</td>\n",
       "      <td>37.240321</td>\n",
       "      <td>33.201333</td>\n",
       "      <td>31.580500</td>\n",
       "      <td>0.000000</td>\n",
       "      <td>1005.879167</td>\n",
       "      <td>17.614775</td>\n",
       "      <td>0.244625</td>\n",
       "      <td>5.0</td>\n",
       "      <td>2023.0</td>\n",
       "      <td>21.0</td>\n",
       "      <td>20.0</td>\n",
       "    </tr>\n",
       "    <tr>\n",
       "      <th>21</th>\n",
       "      <td>2023-05-22 00:00:00+00:00</td>\n",
       "      <td>72.561888</td>\n",
       "      <td>0.000000</td>\n",
       "      <td>36.235506</td>\n",
       "      <td>33.047166</td>\n",
       "      <td>31.399250</td>\n",
       "      <td>0.000000</td>\n",
       "      <td>1006.204167</td>\n",
       "      <td>17.248751</td>\n",
       "      <td>0.215958</td>\n",
       "      <td>5.0</td>\n",
       "      <td>2023.0</td>\n",
       "      <td>22.0</td>\n",
       "      <td>21.0</td>\n",
       "    </tr>\n",
       "    <tr>\n",
       "      <th>22</th>\n",
       "      <td>2023-05-23 00:00:00+00:00</td>\n",
       "      <td>73.097130</td>\n",
       "      <td>0.083333</td>\n",
       "      <td>35.901324</td>\n",
       "      <td>33.972166</td>\n",
       "      <td>30.805500</td>\n",
       "      <td>0.083333</td>\n",
       "      <td>1005.854167</td>\n",
       "      <td>13.070110</td>\n",
       "      <td>0.190458</td>\n",
       "      <td>5.0</td>\n",
       "      <td>2023.0</td>\n",
       "      <td>23.0</td>\n",
       "      <td>21.0</td>\n",
       "    </tr>\n",
       "    <tr>\n",
       "      <th>23</th>\n",
       "      <td>2023-05-24 00:00:00+00:00</td>\n",
       "      <td>78.231282</td>\n",
       "      <td>0.304167</td>\n",
       "      <td>33.855639</td>\n",
       "      <td>31.990916</td>\n",
       "      <td>28.895083</td>\n",
       "      <td>0.304167</td>\n",
       "      <td>1005.029167</td>\n",
       "      <td>11.026559</td>\n",
       "      <td>0.188875</td>\n",
       "      <td>5.0</td>\n",
       "      <td>2023.0</td>\n",
       "      <td>24.0</td>\n",
       "      <td>21.0</td>\n",
       "    </tr>\n",
       "    <tr>\n",
       "      <th>24</th>\n",
       "      <td>2023-05-25 00:00:00+00:00</td>\n",
       "      <td>74.438950</td>\n",
       "      <td>0.337500</td>\n",
       "      <td>36.398072</td>\n",
       "      <td>33.161750</td>\n",
       "      <td>30.728416</td>\n",
       "      <td>0.337500</td>\n",
       "      <td>1004.687500</td>\n",
       "      <td>10.376027</td>\n",
       "      <td>0.196625</td>\n",
       "      <td>5.0</td>\n",
       "      <td>2023.0</td>\n",
       "      <td>25.0</td>\n",
       "      <td>21.0</td>\n",
       "    </tr>\n",
       "    <tr>\n",
       "      <th>25</th>\n",
       "      <td>2023-05-26 00:00:00+00:00</td>\n",
       "      <td>81.673695</td>\n",
       "      <td>0.933333</td>\n",
       "      <td>33.954989</td>\n",
       "      <td>30.378416</td>\n",
       "      <td>28.215916</td>\n",
       "      <td>0.933333</td>\n",
       "      <td>1006.179167</td>\n",
       "      <td>5.177671</td>\n",
       "      <td>0.273750</td>\n",
       "      <td>5.0</td>\n",
       "      <td>2023.0</td>\n",
       "      <td>26.0</td>\n",
       "      <td>21.0</td>\n",
       "    </tr>\n",
       "    <tr>\n",
       "      <th>26</th>\n",
       "      <td>2023-05-27 00:00:00+00:00</td>\n",
       "      <td>82.723681</td>\n",
       "      <td>0.191667</td>\n",
       "      <td>33.836431</td>\n",
       "      <td>30.363833</td>\n",
       "      <td>28.380500</td>\n",
       "      <td>0.191667</td>\n",
       "      <td>1005.633333</td>\n",
       "      <td>8.846761</td>\n",
       "      <td>0.260292</td>\n",
       "      <td>5.0</td>\n",
       "      <td>2023.0</td>\n",
       "      <td>27.0</td>\n",
       "      <td>21.0</td>\n",
       "    </tr>\n",
       "    <tr>\n",
       "      <th>27</th>\n",
       "      <td>2023-05-28 00:00:00+00:00</td>\n",
       "      <td>77.711175</td>\n",
       "      <td>0.095833</td>\n",
       "      <td>35.110808</td>\n",
       "      <td>31.424250</td>\n",
       "      <td>29.205499</td>\n",
       "      <td>0.095833</td>\n",
       "      <td>1006.800000</td>\n",
       "      <td>5.540796</td>\n",
       "      <td>0.241125</td>\n",
       "      <td>5.0</td>\n",
       "      <td>2023.0</td>\n",
       "      <td>28.0</td>\n",
       "      <td>21.0</td>\n",
       "    </tr>\n",
       "    <tr>\n",
       "      <th>28</th>\n",
       "      <td>2023-05-29 00:00:00+00:00</td>\n",
       "      <td>68.278935</td>\n",
       "      <td>0.000000</td>\n",
       "      <td>37.701228</td>\n",
       "      <td>33.845083</td>\n",
       "      <td>31.593000</td>\n",
       "      <td>0.000000</td>\n",
       "      <td>1007.204167</td>\n",
       "      <td>4.657578</td>\n",
       "      <td>0.212625</td>\n",
       "      <td>5.0</td>\n",
       "      <td>2023.0</td>\n",
       "      <td>29.0</td>\n",
       "      <td>22.0</td>\n",
       "    </tr>\n",
       "    <tr>\n",
       "      <th>29</th>\n",
       "      <td>2023-05-30 00:00:00+00:00</td>\n",
       "      <td>74.927102</td>\n",
       "      <td>0.029167</td>\n",
       "      <td>37.155822</td>\n",
       "      <td>34.045083</td>\n",
       "      <td>30.949249</td>\n",
       "      <td>0.029167</td>\n",
       "      <td>1005.966667</td>\n",
       "      <td>8.024276</td>\n",
       "      <td>0.192167</td>\n",
       "      <td>5.0</td>\n",
       "      <td>2023.0</td>\n",
       "      <td>30.0</td>\n",
       "      <td>22.0</td>\n",
       "    </tr>\n",
       "    <tr>\n",
       "      <th>30</th>\n",
       "      <td>2023-05-31 00:00:00+00:00</td>\n",
       "      <td>72.786429</td>\n",
       "      <td>0.058333</td>\n",
       "      <td>38.916944</td>\n",
       "      <td>34.895083</td>\n",
       "      <td>32.190916</td>\n",
       "      <td>0.058333</td>\n",
       "      <td>1004.020833</td>\n",
       "      <td>7.512221</td>\n",
       "      <td>0.181875</td>\n",
       "      <td>5.0</td>\n",
       "      <td>2023.0</td>\n",
       "      <td>31.0</td>\n",
       "      <td>22.0</td>\n",
       "    </tr>\n",
       "  </tbody>\n",
       "</table>\n",
       "</div>"
      ],
      "text/plain": [
       "                        date  relative_humidity_2m      rain  \\\n",
       "0  2023-05-01 00:00:00+00:00             78.801673  0.000000   \n",
       "1  2023-05-02 00:00:00+00:00             67.732911  0.000000   \n",
       "2  2023-05-03 00:00:00+00:00             80.032098  0.441667   \n",
       "3  2023-05-04 00:00:00+00:00             79.318334  0.100000   \n",
       "4  2023-05-05 00:00:00+00:00             78.370373  0.000000   \n",
       "5  2023-05-06 00:00:00+00:00             76.011844  0.016667   \n",
       "6  2023-05-07 00:00:00+00:00             67.641583  0.000000   \n",
       "7  2023-05-08 00:00:00+00:00             64.804460  0.000000   \n",
       "8  2023-05-09 00:00:00+00:00             65.331280  0.004167   \n",
       "9  2023-05-10 00:00:00+00:00             71.294862  0.037500   \n",
       "10 2023-05-11 00:00:00+00:00             71.567870  0.016667   \n",
       "11 2023-05-12 00:00:00+00:00             66.680920  0.004167   \n",
       "12 2023-05-13 00:00:00+00:00             68.227518  0.045833   \n",
       "13 2023-05-14 00:00:00+00:00             52.439765  0.000000   \n",
       "14 2023-05-15 00:00:00+00:00             70.730339  0.025000   \n",
       "15 2023-05-16 00:00:00+00:00             76.219352  0.287500   \n",
       "16 2023-05-17 00:00:00+00:00             76.017019  0.295833   \n",
       "17 2023-05-18 00:00:00+00:00             85.355568  0.625000   \n",
       "18 2023-05-19 00:00:00+00:00             81.498972  1.170833   \n",
       "19 2023-05-20 00:00:00+00:00             76.104500  0.166667   \n",
       "20 2023-05-21 00:00:00+00:00             76.969270  0.000000   \n",
       "21 2023-05-22 00:00:00+00:00             72.561888  0.000000   \n",
       "22 2023-05-23 00:00:00+00:00             73.097130  0.083333   \n",
       "23 2023-05-24 00:00:00+00:00             78.231282  0.304167   \n",
       "24 2023-05-25 00:00:00+00:00             74.438950  0.337500   \n",
       "25 2023-05-26 00:00:00+00:00             81.673695  0.933333   \n",
       "26 2023-05-27 00:00:00+00:00             82.723681  0.191667   \n",
       "27 2023-05-28 00:00:00+00:00             77.711175  0.095833   \n",
       "28 2023-05-29 00:00:00+00:00             68.278935  0.000000   \n",
       "29 2023-05-30 00:00:00+00:00             74.927102  0.029167   \n",
       "30 2023-05-31 00:00:00+00:00             72.786429  0.058333   \n",
       "\n",
       "    apparent_temperature  soil_temperature_0_to_7cm  temperature_2m  \\\n",
       "0              31.552398                  28.143000       26.990916   \n",
       "1              32.433606                  29.953416       28.528416   \n",
       "2              31.886217                  29.103416       27.315916   \n",
       "3              30.862772                  28.401333       26.959666   \n",
       "4              34.445278                  30.001333       28.957583   \n",
       "5              35.538012                  31.401333       29.740916   \n",
       "6              35.706452                  32.299250       30.868000   \n",
       "7              36.578926                  33.284666       31.740916   \n",
       "8              37.132053                  33.980500       32.174250   \n",
       "9              36.936979                  33.876333       31.449250   \n",
       "10             36.358058                  33.574249       31.090916   \n",
       "11             36.393662                  33.447166       31.518000   \n",
       "12             35.317174                  33.136749       30.661749   \n",
       "13             32.512477                  32.986750       30.868000   \n",
       "14             33.218228                  32.145083       29.711749   \n",
       "15             36.547794                  32.884666       31.240916   \n",
       "16             34.317169                  32.345083       29.857583   \n",
       "17             34.073488                  30.159666       28.713833   \n",
       "18             35.051065                  31.074250       29.630499   \n",
       "19             36.611932                  32.438833       30.872166   \n",
       "20             37.240321                  33.201333       31.580500   \n",
       "21             36.235506                  33.047166       31.399250   \n",
       "22             35.901324                  33.972166       30.805500   \n",
       "23             33.855639                  31.990916       28.895083   \n",
       "24             36.398072                  33.161750       30.728416   \n",
       "25             33.954989                  30.378416       28.215916   \n",
       "26             33.836431                  30.363833       28.380500   \n",
       "27             35.110808                  31.424250       29.205499   \n",
       "28             37.701228                  33.845083       31.593000   \n",
       "29             37.155822                  34.045083       30.949249   \n",
       "30             38.916944                  34.895083       32.190916   \n",
       "\n",
       "    precipitation  pressure_msl  wind_speed_10m  soil_moisture_0_to_7cm  \\\n",
       "0        0.000000   1008.929167        5.805303                0.281833   \n",
       "1        0.000000   1009.100000        7.800883                0.256667   \n",
       "2        0.441667   1009.554167        8.912910                0.292375   \n",
       "3        0.100000   1008.129167       10.472948                0.268125   \n",
       "4        0.000000   1005.283333        7.673376                0.306458   \n",
       "5        0.016667   1004.566667        7.405307                0.267292   \n",
       "6        0.000000   1004.266667        7.789706                0.242000   \n",
       "7        0.000000   1004.133333        8.470702                0.213792   \n",
       "8        0.004167   1004.375000       10.223139                0.193583   \n",
       "9        0.037500   1005.083333       12.077514                0.192792   \n",
       "10       0.016667   1006.266667       10.742878                0.189292   \n",
       "11       0.004167   1005.629167        9.030828                0.179167   \n",
       "12       0.045833   1003.370833       10.796239                0.178292   \n",
       "13       0.000000   1000.029167       14.559127                0.168542   \n",
       "14       0.025000   1003.266667       15.385824                0.165208   \n",
       "15       0.287500   1004.795833       17.341182                0.173083   \n",
       "16       0.295833   1006.929167       16.941326                0.213458   \n",
       "17       0.625000   1007.220833       14.443931                0.344958   \n",
       "18       1.170833   1005.250000       14.859651                0.350125   \n",
       "19       0.166667   1005.145833       13.045893                0.271750   \n",
       "20       0.000000   1005.879167       17.614775                0.244625   \n",
       "21       0.000000   1006.204167       17.248751                0.215958   \n",
       "22       0.083333   1005.854167       13.070110                0.190458   \n",
       "23       0.304167   1005.029167       11.026559                0.188875   \n",
       "24       0.337500   1004.687500       10.376027                0.196625   \n",
       "25       0.933333   1006.179167        5.177671                0.273750   \n",
       "26       0.191667   1005.633333        8.846761                0.260292   \n",
       "27       0.095833   1006.800000        5.540796                0.241125   \n",
       "28       0.000000   1007.204167        4.657578                0.212625   \n",
       "29       0.029167   1005.966667        8.024276                0.192167   \n",
       "30       0.058333   1004.020833        7.512221                0.181875   \n",
       "\n",
       "    month    year   day  week  \n",
       "0     5.0  2023.0   1.0  18.0  \n",
       "1     5.0  2023.0   2.0  18.0  \n",
       "2     5.0  2023.0   3.0  18.0  \n",
       "3     5.0  2023.0   4.0  18.0  \n",
       "4     5.0  2023.0   5.0  18.0  \n",
       "5     5.0  2023.0   6.0  18.0  \n",
       "6     5.0  2023.0   7.0  18.0  \n",
       "7     5.0  2023.0   8.0  19.0  \n",
       "8     5.0  2023.0   9.0  19.0  \n",
       "9     5.0  2023.0  10.0  19.0  \n",
       "10    5.0  2023.0  11.0  19.0  \n",
       "11    5.0  2023.0  12.0  19.0  \n",
       "12    5.0  2023.0  13.0  19.0  \n",
       "13    5.0  2023.0  14.0  19.0  \n",
       "14    5.0  2023.0  15.0  20.0  \n",
       "15    5.0  2023.0  16.0  20.0  \n",
       "16    5.0  2023.0  17.0  20.0  \n",
       "17    5.0  2023.0  18.0  20.0  \n",
       "18    5.0  2023.0  19.0  20.0  \n",
       "19    5.0  2023.0  20.0  20.0  \n",
       "20    5.0  2023.0  21.0  20.0  \n",
       "21    5.0  2023.0  22.0  21.0  \n",
       "22    5.0  2023.0  23.0  21.0  \n",
       "23    5.0  2023.0  24.0  21.0  \n",
       "24    5.0  2023.0  25.0  21.0  \n",
       "25    5.0  2023.0  26.0  21.0  \n",
       "26    5.0  2023.0  27.0  21.0  \n",
       "27    5.0  2023.0  28.0  21.0  \n",
       "28    5.0  2023.0  29.0  22.0  \n",
       "29    5.0  2023.0  30.0  22.0  \n",
       "30    5.0  2023.0  31.0  22.0  "
      ]
     },
     "execution_count": 11,
     "metadata": {},
     "output_type": "execute_result"
    }
   ],
   "source": [
    "monthly_df"
   ]
  },
  {
   "cell_type": "code",
   "execution_count": 12,
   "id": "39830ea1",
   "metadata": {},
   "outputs": [],
   "source": [
    "monthly_temp= np.array(monthly_df['temperature_2m'])"
   ]
  },
  {
   "cell_type": "code",
   "execution_count": 13,
   "id": "45481a8d",
   "metadata": {},
   "outputs": [
    {
     "data": {
      "text/plain": [
       "array([26.99091637, 28.52841604, 27.31591629, 26.95966617, 28.95758292,\n",
       "       29.74091625, 30.86799979, 31.74091629, 32.17424967, 31.44924979,\n",
       "       31.09091646, 31.51799958, 30.66174942, 30.86799962, 29.71174933,\n",
       "       31.24091633, 29.85758271, 28.71383287, 29.6304995 , 30.87216612,\n",
       "       31.58049963, 31.39924954, 30.80549975, 28.89508292, 30.72841625,\n",
       "       28.21591625, 28.38049954, 29.20549946, 31.59299967, 30.94924933,\n",
       "       32.19091638])"
      ]
     },
     "execution_count": 13,
     "metadata": {},
     "output_type": "execute_result"
    }
   ],
   "source": [
    "monthly_temp"
   ]
  },
  {
   "cell_type": "code",
   "execution_count": 14,
   "id": "dbfff279",
   "metadata": {},
   "outputs": [],
   "source": [
    "date_obj = datetime(select_year,select_month,1)"
   ]
  },
  {
   "cell_type": "code",
   "execution_count": 15,
   "id": "b8fd44bc",
   "metadata": {},
   "outputs": [
    {
     "data": {
      "text/plain": [
       "'Monday'"
      ]
     },
     "execution_count": 15,
     "metadata": {},
     "output_type": "execute_result"
    }
   ],
   "source": [
    "date_obj.strftime(\"%A\")"
   ]
  },
  {
   "cell_type": "code",
   "execution_count": 16,
   "id": "2825615d",
   "metadata": {},
   "outputs": [],
   "source": [
    "weekday=date_obj.weekday()"
   ]
  },
  {
   "cell_type": "code",
   "execution_count": 17,
   "id": "fff93a39",
   "metadata": {},
   "outputs": [],
   "source": [
    "monthly_temp=np.nan * np.zeros((5,7))\n",
    "dates=np.empty((5, 7), dtype='<U20')"
   ]
  },
  {
   "cell_type": "code",
   "execution_count": 18,
   "id": "7faa9269",
   "metadata": {},
   "outputs": [
    {
     "data": {
      "text/plain": [
       "0"
      ]
     },
     "execution_count": 18,
     "metadata": {},
     "output_type": "execute_result"
    }
   ],
   "source": [
    "weekday"
   ]
  },
  {
   "cell_type": "code",
   "execution_count": 19,
   "id": "2e23e761",
   "metadata": {},
   "outputs": [
    {
     "data": {
      "text/plain": [
       "array([['', '', '', '', '', '', ''],\n",
       "       ['', '', '', '', '', '', ''],\n",
       "       ['', '', '', '', '', '', ''],\n",
       "       ['', '', '', '', '', '', ''],\n",
       "       ['', '', '', '', '', '', '']], dtype='<U20')"
      ]
     },
     "execution_count": 19,
     "metadata": {},
     "output_type": "execute_result"
    }
   ],
   "source": [
    "dates"
   ]
  },
  {
   "cell_type": "code",
   "execution_count": 20,
   "id": "c74eb7d1",
   "metadata": {},
   "outputs": [
    {
     "data": {
      "text/plain": [
       "array([[nan, nan, nan, nan, nan, nan, nan],\n",
       "       [nan, nan, nan, nan, nan, nan, nan],\n",
       "       [nan, nan, nan, nan, nan, nan, nan],\n",
       "       [nan, nan, nan, nan, nan, nan, nan],\n",
       "       [nan, nan, nan, nan, nan, nan, nan]])"
      ]
     },
     "execution_count": 20,
     "metadata": {},
     "output_type": "execute_result"
    }
   ],
   "source": [
    "monthly_temp"
   ]
  },
  {
   "cell_type": "code",
   "execution_count": 21,
   "id": "23726704",
   "metadata": {},
   "outputs": [],
   "source": [
    "for i,r in monthly_df.iterrows():\n",
    "    #print(r['temperature_2m'])\n",
    "    #print(int(i/7))\n",
    "    #print(f\"{i+1:02d}/{select_month:02d}/{select_year}\")\n",
    "    monthly_temp[int(i/7)][weekday]=r['temperature_2m']\n",
    "    dates[int(i/7)][weekday]=f\"{i+1:02d}/{select_month:02d}/{select_year}\"\n",
    "    if(weekday==6):\n",
    "        weekday=0\n",
    "    else:\n",
    "        weekday = weekday+1\n",
    "    #print(monthly_temp)"
   ]
  },
  {
   "cell_type": "code",
   "execution_count": 22,
   "id": "c494fbae",
   "metadata": {},
   "outputs": [
    {
     "data": {
      "text/plain": [
       "array([[26.99091637, 28.52841604, 27.31591629, 26.95966617, 28.95758292,\n",
       "        29.74091625, 30.86799979],\n",
       "       [31.74091629, 32.17424967, 31.44924979, 31.09091646, 31.51799958,\n",
       "        30.66174942, 30.86799962],\n",
       "       [29.71174933, 31.24091633, 29.85758271, 28.71383287, 29.6304995 ,\n",
       "        30.87216612, 31.58049963],\n",
       "       [31.39924954, 30.80549975, 28.89508292, 30.72841625, 28.21591625,\n",
       "        28.38049954, 29.20549946],\n",
       "       [31.59299967, 30.94924933, 32.19091638,         nan,         nan,\n",
       "                nan,         nan]])"
      ]
     },
     "execution_count": 22,
     "metadata": {},
     "output_type": "execute_result"
    }
   ],
   "source": [
    "monthly_temp"
   ]
  },
  {
   "cell_type": "code",
   "execution_count": 23,
   "id": "ab544b22",
   "metadata": {},
   "outputs": [
    {
     "data": {
      "text/plain": [
       "array([['01/05/2023', '02/05/2023', '03/05/2023', '04/05/2023',\n",
       "        '05/05/2023', '06/05/2023', '07/05/2023'],\n",
       "       ['08/05/2023', '09/05/2023', '10/05/2023', '11/05/2023',\n",
       "        '12/05/2023', '13/05/2023', '14/05/2023'],\n",
       "       ['15/05/2023', '16/05/2023', '17/05/2023', '18/05/2023',\n",
       "        '19/05/2023', '20/05/2023', '21/05/2023'],\n",
       "       ['22/05/2023', '23/05/2023', '24/05/2023', '25/05/2023',\n",
       "        '26/05/2023', '27/05/2023', '28/05/2023'],\n",
       "       ['29/05/2023', '30/05/2023', '31/05/2023', '', '', '', '']],\n",
       "      dtype='<U20')"
      ]
     },
     "execution_count": 23,
     "metadata": {},
     "output_type": "execute_result"
    }
   ],
   "source": [
    "dates"
   ]
  },
  {
   "cell_type": "code",
   "execution_count": 48,
   "id": "db634e6e",
   "metadata": {},
   "outputs": [
    {
     "data": {
      "application/vnd.plotly.v1+json": {
       "config": {
        "plotlyServerURL": "https://plot.ly"
       },
       "data": [
        {
         "coloraxis": "coloraxis",
         "customdata": [
          [
           "01/05/2023",
           "02/05/2023",
           "03/05/2023",
           "04/05/2023",
           "05/05/2023",
           "06/05/2023",
           "07/05/2023"
          ],
          [
           "08/05/2023",
           "09/05/2023",
           "10/05/2023",
           "11/05/2023",
           "12/05/2023",
           "13/05/2023",
           "14/05/2023"
          ],
          [
           "15/05/2023",
           "16/05/2023",
           "17/05/2023",
           "18/05/2023",
           "19/05/2023",
           "20/05/2023",
           "21/05/2023"
          ],
          [
           "22/05/2023",
           "23/05/2023",
           "24/05/2023",
           "25/05/2023",
           "26/05/2023",
           "27/05/2023",
           "28/05/2023"
          ],
          [
           "29/05/2023",
           "30/05/2023",
           "31/05/2023",
           "",
           "",
           "",
           ""
          ]
         ],
         "hovertemplate": "<b>Date</b>: %{customdata}<br><b>Temperature</b>: %{z}°C<extra></extra>",
         "name": "0",
         "type": "heatmap",
         "x": [
          "Monday",
          "Tuesday",
          "Wednesday",
          "Thursday",
          "Friday",
          "Saturday",
          "Sunday"
         ],
         "xaxis": "x",
         "xgap": 1,
         "y": [
          "Week 1",
          "Week 2",
          "Week 3",
          "Week 4",
          "Week 5"
         ],
         "yaxis": "y",
         "ygap": 1,
         "z": {
          "bdata": "JLIPsqz9OkDfoxFGRoc8QGD73OPfUDtAOOmQrqz1OkCoSm4nJPU8QDDT9q+svT1ApST+OzXePkAsyKmwrL0/QAzWJdBNFkBAc/HKCAJzP0C3NQ9NRhc/QCDC5Z6bhD9A/LrmaGipPkC1UDI5Nd4+QNGdTTQ1tj1AKL1csaw9P0Aj6FWKits9QEXvVMC9tjxA9KRMamihPUDVjXdHRt8+QBy3mJ+blD9AvWbMNzVmP0CpL0s7Nc4+QKhKbick5TxA/Z/DfHm6PkDLbJBJRjc8QPCZ/2poYTxAK+PMnJs0PUBL337Tzpc/QJ1qGgEC8z5ArHKh8m8YQEAAAAAAAAD4fwAAAAAAAPh/AAAAAAAA+H8AAAAAAAD4fw==",
          "dtype": "f8",
          "shape": "5, 7"
         }
        }
       ],
       "layout": {
        "coloraxis": {
         "colorbar": {
          "title": {
           "text": "Temperature"
          }
         },
         "colorscale": [
          [
           0,
           "rgb(49,54,149)"
          ],
          [
           0.1,
           "rgb(69,117,180)"
          ],
          [
           0.2,
           "rgb(116,173,209)"
          ],
          [
           0.3,
           "rgb(171,217,233)"
          ],
          [
           0.4,
           "rgb(224,243,248)"
          ],
          [
           0.5,
           "rgb(255,255,191)"
          ],
          [
           0.6,
           "rgb(254,224,144)"
          ],
          [
           0.7,
           "rgb(253,174,97)"
          ],
          [
           0.8,
           "rgb(244,109,67)"
          ],
          [
           0.9,
           "rgb(215,48,39)"
          ],
          [
           1,
           "rgb(165,0,38)"
          ]
         ]
        },
        "margin": {
         "t": 60
        },
        "template": {
         "data": {
          "bar": [
           {
            "error_x": {
             "color": "#2a3f5f"
            },
            "error_y": {
             "color": "#2a3f5f"
            },
            "marker": {
             "line": {
              "color": "#E5ECF6",
              "width": 0.5
             },
             "pattern": {
              "fillmode": "overlay",
              "size": 10,
              "solidity": 0.2
             }
            },
            "type": "bar"
           }
          ],
          "barpolar": [
           {
            "marker": {
             "line": {
              "color": "#E5ECF6",
              "width": 0.5
             },
             "pattern": {
              "fillmode": "overlay",
              "size": 10,
              "solidity": 0.2
             }
            },
            "type": "barpolar"
           }
          ],
          "carpet": [
           {
            "aaxis": {
             "endlinecolor": "#2a3f5f",
             "gridcolor": "white",
             "linecolor": "white",
             "minorgridcolor": "white",
             "startlinecolor": "#2a3f5f"
            },
            "baxis": {
             "endlinecolor": "#2a3f5f",
             "gridcolor": "white",
             "linecolor": "white",
             "minorgridcolor": "white",
             "startlinecolor": "#2a3f5f"
            },
            "type": "carpet"
           }
          ],
          "choropleth": [
           {
            "colorbar": {
             "outlinewidth": 0,
             "ticks": ""
            },
            "type": "choropleth"
           }
          ],
          "contour": [
           {
            "colorbar": {
             "outlinewidth": 0,
             "ticks": ""
            },
            "colorscale": [
             [
              0,
              "#0d0887"
             ],
             [
              0.1111111111111111,
              "#46039f"
             ],
             [
              0.2222222222222222,
              "#7201a8"
             ],
             [
              0.3333333333333333,
              "#9c179e"
             ],
             [
              0.4444444444444444,
              "#bd3786"
             ],
             [
              0.5555555555555556,
              "#d8576b"
             ],
             [
              0.6666666666666666,
              "#ed7953"
             ],
             [
              0.7777777777777778,
              "#fb9f3a"
             ],
             [
              0.8888888888888888,
              "#fdca26"
             ],
             [
              1,
              "#f0f921"
             ]
            ],
            "type": "contour"
           }
          ],
          "contourcarpet": [
           {
            "colorbar": {
             "outlinewidth": 0,
             "ticks": ""
            },
            "type": "contourcarpet"
           }
          ],
          "heatmap": [
           {
            "colorbar": {
             "outlinewidth": 0,
             "ticks": ""
            },
            "colorscale": [
             [
              0,
              "#0d0887"
             ],
             [
              0.1111111111111111,
              "#46039f"
             ],
             [
              0.2222222222222222,
              "#7201a8"
             ],
             [
              0.3333333333333333,
              "#9c179e"
             ],
             [
              0.4444444444444444,
              "#bd3786"
             ],
             [
              0.5555555555555556,
              "#d8576b"
             ],
             [
              0.6666666666666666,
              "#ed7953"
             ],
             [
              0.7777777777777778,
              "#fb9f3a"
             ],
             [
              0.8888888888888888,
              "#fdca26"
             ],
             [
              1,
              "#f0f921"
             ]
            ],
            "type": "heatmap"
           }
          ],
          "histogram": [
           {
            "marker": {
             "pattern": {
              "fillmode": "overlay",
              "size": 10,
              "solidity": 0.2
             }
            },
            "type": "histogram"
           }
          ],
          "histogram2d": [
           {
            "colorbar": {
             "outlinewidth": 0,
             "ticks": ""
            },
            "colorscale": [
             [
              0,
              "#0d0887"
             ],
             [
              0.1111111111111111,
              "#46039f"
             ],
             [
              0.2222222222222222,
              "#7201a8"
             ],
             [
              0.3333333333333333,
              "#9c179e"
             ],
             [
              0.4444444444444444,
              "#bd3786"
             ],
             [
              0.5555555555555556,
              "#d8576b"
             ],
             [
              0.6666666666666666,
              "#ed7953"
             ],
             [
              0.7777777777777778,
              "#fb9f3a"
             ],
             [
              0.8888888888888888,
              "#fdca26"
             ],
             [
              1,
              "#f0f921"
             ]
            ],
            "type": "histogram2d"
           }
          ],
          "histogram2dcontour": [
           {
            "colorbar": {
             "outlinewidth": 0,
             "ticks": ""
            },
            "colorscale": [
             [
              0,
              "#0d0887"
             ],
             [
              0.1111111111111111,
              "#46039f"
             ],
             [
              0.2222222222222222,
              "#7201a8"
             ],
             [
              0.3333333333333333,
              "#9c179e"
             ],
             [
              0.4444444444444444,
              "#bd3786"
             ],
             [
              0.5555555555555556,
              "#d8576b"
             ],
             [
              0.6666666666666666,
              "#ed7953"
             ],
             [
              0.7777777777777778,
              "#fb9f3a"
             ],
             [
              0.8888888888888888,
              "#fdca26"
             ],
             [
              1,
              "#f0f921"
             ]
            ],
            "type": "histogram2dcontour"
           }
          ],
          "mesh3d": [
           {
            "colorbar": {
             "outlinewidth": 0,
             "ticks": ""
            },
            "type": "mesh3d"
           }
          ],
          "parcoords": [
           {
            "line": {
             "colorbar": {
              "outlinewidth": 0,
              "ticks": ""
             }
            },
            "type": "parcoords"
           }
          ],
          "pie": [
           {
            "automargin": true,
            "type": "pie"
           }
          ],
          "scatter": [
           {
            "fillpattern": {
             "fillmode": "overlay",
             "size": 10,
             "solidity": 0.2
            },
            "type": "scatter"
           }
          ],
          "scatter3d": [
           {
            "line": {
             "colorbar": {
              "outlinewidth": 0,
              "ticks": ""
             }
            },
            "marker": {
             "colorbar": {
              "outlinewidth": 0,
              "ticks": ""
             }
            },
            "type": "scatter3d"
           }
          ],
          "scattercarpet": [
           {
            "marker": {
             "colorbar": {
              "outlinewidth": 0,
              "ticks": ""
             }
            },
            "type": "scattercarpet"
           }
          ],
          "scattergeo": [
           {
            "marker": {
             "colorbar": {
              "outlinewidth": 0,
              "ticks": ""
             }
            },
            "type": "scattergeo"
           }
          ],
          "scattergl": [
           {
            "marker": {
             "colorbar": {
              "outlinewidth": 0,
              "ticks": ""
             }
            },
            "type": "scattergl"
           }
          ],
          "scattermap": [
           {
            "marker": {
             "colorbar": {
              "outlinewidth": 0,
              "ticks": ""
             }
            },
            "type": "scattermap"
           }
          ],
          "scattermapbox": [
           {
            "marker": {
             "colorbar": {
              "outlinewidth": 0,
              "ticks": ""
             }
            },
            "type": "scattermapbox"
           }
          ],
          "scatterpolar": [
           {
            "marker": {
             "colorbar": {
              "outlinewidth": 0,
              "ticks": ""
             }
            },
            "type": "scatterpolar"
           }
          ],
          "scatterpolargl": [
           {
            "marker": {
             "colorbar": {
              "outlinewidth": 0,
              "ticks": ""
             }
            },
            "type": "scatterpolargl"
           }
          ],
          "scatterternary": [
           {
            "marker": {
             "colorbar": {
              "outlinewidth": 0,
              "ticks": ""
             }
            },
            "type": "scatterternary"
           }
          ],
          "surface": [
           {
            "colorbar": {
             "outlinewidth": 0,
             "ticks": ""
            },
            "colorscale": [
             [
              0,
              "#0d0887"
             ],
             [
              0.1111111111111111,
              "#46039f"
             ],
             [
              0.2222222222222222,
              "#7201a8"
             ],
             [
              0.3333333333333333,
              "#9c179e"
             ],
             [
              0.4444444444444444,
              "#bd3786"
             ],
             [
              0.5555555555555556,
              "#d8576b"
             ],
             [
              0.6666666666666666,
              "#ed7953"
             ],
             [
              0.7777777777777778,
              "#fb9f3a"
             ],
             [
              0.8888888888888888,
              "#fdca26"
             ],
             [
              1,
              "#f0f921"
             ]
            ],
            "type": "surface"
           }
          ],
          "table": [
           {
            "cells": {
             "fill": {
              "color": "#EBF0F8"
             },
             "line": {
              "color": "white"
             }
            },
            "header": {
             "fill": {
              "color": "#C8D4E3"
             },
             "line": {
              "color": "white"
             }
            },
            "type": "table"
           }
          ]
         },
         "layout": {
          "annotationdefaults": {
           "arrowcolor": "#2a3f5f",
           "arrowhead": 0,
           "arrowwidth": 1
          },
          "autotypenumbers": "strict",
          "coloraxis": {
           "colorbar": {
            "outlinewidth": 0,
            "ticks": ""
           }
          },
          "colorscale": {
           "diverging": [
            [
             0,
             "#8e0152"
            ],
            [
             0.1,
             "#c51b7d"
            ],
            [
             0.2,
             "#de77ae"
            ],
            [
             0.3,
             "#f1b6da"
            ],
            [
             0.4,
             "#fde0ef"
            ],
            [
             0.5,
             "#f7f7f7"
            ],
            [
             0.6,
             "#e6f5d0"
            ],
            [
             0.7,
             "#b8e186"
            ],
            [
             0.8,
             "#7fbc41"
            ],
            [
             0.9,
             "#4d9221"
            ],
            [
             1,
             "#276419"
            ]
           ],
           "sequential": [
            [
             0,
             "#0d0887"
            ],
            [
             0.1111111111111111,
             "#46039f"
            ],
            [
             0.2222222222222222,
             "#7201a8"
            ],
            [
             0.3333333333333333,
             "#9c179e"
            ],
            [
             0.4444444444444444,
             "#bd3786"
            ],
            [
             0.5555555555555556,
             "#d8576b"
            ],
            [
             0.6666666666666666,
             "#ed7953"
            ],
            [
             0.7777777777777778,
             "#fb9f3a"
            ],
            [
             0.8888888888888888,
             "#fdca26"
            ],
            [
             1,
             "#f0f921"
            ]
           ],
           "sequentialminus": [
            [
             0,
             "#0d0887"
            ],
            [
             0.1111111111111111,
             "#46039f"
            ],
            [
             0.2222222222222222,
             "#7201a8"
            ],
            [
             0.3333333333333333,
             "#9c179e"
            ],
            [
             0.4444444444444444,
             "#bd3786"
            ],
            [
             0.5555555555555556,
             "#d8576b"
            ],
            [
             0.6666666666666666,
             "#ed7953"
            ],
            [
             0.7777777777777778,
             "#fb9f3a"
            ],
            [
             0.8888888888888888,
             "#fdca26"
            ],
            [
             1,
             "#f0f921"
            ]
           ]
          },
          "colorway": [
           "#636efa",
           "#EF553B",
           "#00cc96",
           "#ab63fa",
           "#FFA15A",
           "#19d3f3",
           "#FF6692",
           "#B6E880",
           "#FF97FF",
           "#FECB52"
          ],
          "font": {
           "color": "#2a3f5f"
          },
          "geo": {
           "bgcolor": "white",
           "lakecolor": "white",
           "landcolor": "#E5ECF6",
           "showlakes": true,
           "showland": true,
           "subunitcolor": "white"
          },
          "hoverlabel": {
           "align": "left"
          },
          "hovermode": "closest",
          "mapbox": {
           "style": "light"
          },
          "paper_bgcolor": "white",
          "plot_bgcolor": "#E5ECF6",
          "polar": {
           "angularaxis": {
            "gridcolor": "white",
            "linecolor": "white",
            "ticks": ""
           },
           "bgcolor": "#E5ECF6",
           "radialaxis": {
            "gridcolor": "white",
            "linecolor": "white",
            "ticks": ""
           }
          },
          "scene": {
           "xaxis": {
            "backgroundcolor": "#E5ECF6",
            "gridcolor": "white",
            "gridwidth": 2,
            "linecolor": "white",
            "showbackground": true,
            "ticks": "",
            "zerolinecolor": "white"
           },
           "yaxis": {
            "backgroundcolor": "#E5ECF6",
            "gridcolor": "white",
            "gridwidth": 2,
            "linecolor": "white",
            "showbackground": true,
            "ticks": "",
            "zerolinecolor": "white"
           },
           "zaxis": {
            "backgroundcolor": "#E5ECF6",
            "gridcolor": "white",
            "gridwidth": 2,
            "linecolor": "white",
            "showbackground": true,
            "ticks": "",
            "zerolinecolor": "white"
           }
          },
          "shapedefaults": {
           "line": {
            "color": "#2a3f5f"
           }
          },
          "ternary": {
           "aaxis": {
            "gridcolor": "white",
            "linecolor": "white",
            "ticks": ""
           },
           "baxis": {
            "gridcolor": "white",
            "linecolor": "white",
            "ticks": ""
           },
           "bgcolor": "#E5ECF6",
           "caxis": {
            "gridcolor": "white",
            "linecolor": "white",
            "ticks": ""
           }
          },
          "title": {
           "x": 0.05
          },
          "xaxis": {
           "automargin": true,
           "gridcolor": "white",
           "linecolor": "white",
           "ticks": "",
           "title": {
            "standoff": 15
           },
           "zerolinecolor": "white",
           "zerolinewidth": 2
          },
          "yaxis": {
           "automargin": true,
           "gridcolor": "white",
           "linecolor": "white",
           "ticks": "",
           "title": {
            "standoff": 15
           },
           "zerolinecolor": "white",
           "zerolinewidth": 2
          }
         }
        },
        "xaxis": {
         "anchor": "y",
         "constrain": "domain",
         "domain": [
          0,
          1
         ],
         "scaleanchor": "y",
         "side": "top",
         "title": {
          "text": "Week Day"
         }
        },
        "yaxis": {
         "anchor": "x",
         "autorange": "reversed",
         "constrain": "domain",
         "domain": [
          0,
          1
         ],
         "title": {
          "text": "Week Number"
         }
        }
       }
      }
     },
     "metadata": {},
     "output_type": "display_data"
    }
   ],
   "source": [
    "#Plotly heatmap\n",
    "fig = px.imshow(\n",
    "    monthly_temp,\n",
    "    labels=dict(x=\"Week Day\", y=\"Week Number\", color=\"Temperature\"),\n",
    "                x=['Monday', 'Tuesday', 'Wednesday', 'Thursday', 'Friday', 'Saturday', 'Sunday'],\n",
    "                y=['Week 1', 'Week 2', 'Week 3', 'Week 4', 'Week 5'],color_continuous_scale='rdylbu_r')\n",
    "fig.update_traces(\n",
    "        customdata=dates,\n",
    "        hovertemplate=\n",
    "        \"<b>Date</b>: %{customdata}<br>\" +\n",
    "        \"<b>Temperature</b>: %{z}°C\" +\n",
    "        \"<extra></extra>\",\n",
    "        xgap=1,\n",
    "        ygap=1\n",
    "        )\n",
    "fig.update_xaxes(side=\"top\")\n",
    "fig.show()"
   ]
  },
  {
   "cell_type": "code",
   "execution_count": null,
   "id": "57815887",
   "metadata": {},
   "outputs": [
    {
     "ename": "ValueError",
     "evalue": "All arguments should have the same length. The length of argument `y` is 5, whereas the length of previously-processed arguments ['x'] is 7",
     "output_type": "error",
     "traceback": [
      "\u001b[31m---------------------------------------------------------------------------\u001b[39m",
      "\u001b[31mValueError\u001b[39m                                Traceback (most recent call last)",
      "\u001b[36mCell\u001b[39m\u001b[36m \u001b[39m\u001b[32mIn[50]\u001b[39m\u001b[32m, line 1\u001b[39m\n\u001b[32m----> \u001b[39m\u001b[32m1\u001b[39m fig = \u001b[43mpx\u001b[49m\u001b[43m.\u001b[49m\u001b[43mdensity_heatmap\u001b[49m\u001b[43m(\u001b[49m\n\u001b[32m      2\u001b[39m \u001b[43m    \u001b[49m\u001b[43mmonthly_temp\u001b[49m\u001b[43m,\u001b[49m\n\u001b[32m      3\u001b[39m \u001b[43m    \u001b[49m\u001b[43mlabels\u001b[49m\u001b[43m=\u001b[49m\u001b[38;5;28;43mdict\u001b[39;49m\u001b[43m(\u001b[49m\u001b[43mx\u001b[49m\u001b[43m=\u001b[49m\u001b[33;43m\"\u001b[39;49m\u001b[33;43mWeek Day\u001b[39;49m\u001b[33;43m\"\u001b[39;49m\u001b[43m,\u001b[49m\u001b[43m \u001b[49m\u001b[43my\u001b[49m\u001b[43m=\u001b[49m\u001b[33;43m\"\u001b[39;49m\u001b[33;43mWeek Number\u001b[39;49m\u001b[33;43m\"\u001b[39;49m\u001b[43m,\u001b[49m\u001b[43m \u001b[49m\u001b[43mcolor\u001b[49m\u001b[43m=\u001b[49m\u001b[33;43m\"\u001b[39;49m\u001b[33;43mTemperature\u001b[39;49m\u001b[33;43m\"\u001b[39;49m\u001b[43m)\u001b[49m\u001b[43m,\u001b[49m\n\u001b[32m      4\u001b[39m \u001b[43m                \u001b[49m\u001b[43mx\u001b[49m\u001b[43m=\u001b[49m\u001b[43m[\u001b[49m\u001b[33;43m'\u001b[39;49m\u001b[33;43mMonday\u001b[39;49m\u001b[33;43m'\u001b[39;49m\u001b[43m,\u001b[49m\u001b[43m \u001b[49m\u001b[33;43m'\u001b[39;49m\u001b[33;43mTuesday\u001b[39;49m\u001b[33;43m'\u001b[39;49m\u001b[43m,\u001b[49m\u001b[43m \u001b[49m\u001b[33;43m'\u001b[39;49m\u001b[33;43mWednesday\u001b[39;49m\u001b[33;43m'\u001b[39;49m\u001b[43m,\u001b[49m\u001b[43m \u001b[49m\u001b[33;43m'\u001b[39;49m\u001b[33;43mThursday\u001b[39;49m\u001b[33;43m'\u001b[39;49m\u001b[43m,\u001b[49m\u001b[43m \u001b[49m\u001b[33;43m'\u001b[39;49m\u001b[33;43mFriday\u001b[39;49m\u001b[33;43m'\u001b[39;49m\u001b[43m,\u001b[49m\u001b[43m \u001b[49m\u001b[33;43m'\u001b[39;49m\u001b[33;43mSaturday\u001b[39;49m\u001b[33;43m'\u001b[39;49m\u001b[43m,\u001b[49m\u001b[43m \u001b[49m\u001b[33;43m'\u001b[39;49m\u001b[33;43mSunday\u001b[39;49m\u001b[33;43m'\u001b[39;49m\u001b[43m]\u001b[49m\u001b[43m,\u001b[49m\n\u001b[32m      5\u001b[39m \u001b[43m                \u001b[49m\u001b[43my\u001b[49m\u001b[43m=\u001b[49m\u001b[43m[\u001b[49m\u001b[33;43m'\u001b[39;49m\u001b[33;43mWeek 1\u001b[39;49m\u001b[33;43m'\u001b[39;49m\u001b[43m,\u001b[49m\u001b[43m \u001b[49m\u001b[33;43m'\u001b[39;49m\u001b[33;43mWeek 2\u001b[39;49m\u001b[33;43m'\u001b[39;49m\u001b[43m,\u001b[49m\u001b[43m \u001b[49m\u001b[33;43m'\u001b[39;49m\u001b[33;43mWeek 3\u001b[39;49m\u001b[33;43m'\u001b[39;49m\u001b[43m,\u001b[49m\u001b[43m \u001b[49m\u001b[33;43m'\u001b[39;49m\u001b[33;43mWeek 4\u001b[39;49m\u001b[33;43m'\u001b[39;49m\u001b[43m,\u001b[49m\u001b[43m \u001b[49m\u001b[33;43m'\u001b[39;49m\u001b[33;43mWeek 5\u001b[39;49m\u001b[33;43m'\u001b[39;49m\u001b[43m]\u001b[49m\u001b[43m,\u001b[49m\u001b[43mcolor_continuous_scale\u001b[49m\u001b[43m=\u001b[49m\u001b[33;43m'\u001b[39;49m\u001b[33;43mrdylbu_r\u001b[39;49m\u001b[33;43m'\u001b[39;49m\u001b[43m)\u001b[49m\n\u001b[32m      6\u001b[39m fig.update_traces(\n\u001b[32m      7\u001b[39m         customdata=dates,\n\u001b[32m      8\u001b[39m         hovertemplate=\n\u001b[32m   (...)\u001b[39m\u001b[32m     13\u001b[39m         ygap=\u001b[32m1\u001b[39m\n\u001b[32m     14\u001b[39m         )\n\u001b[32m     15\u001b[39m fig.update_xaxes(side=\u001b[33m\"\u001b[39m\u001b[33mtop\u001b[39m\u001b[33m\"\u001b[39m)\n",
      "\u001b[36mFile \u001b[39m\u001b[32me:\\GitHub\\WeatherAnalytics\\venv\\Lib\\site-packages\\plotly\\express\\_chart_types.py:192\u001b[39m, in \u001b[36mdensity_heatmap\u001b[39m\u001b[34m(data_frame, x, y, z, facet_row, facet_col, facet_col_wrap, facet_row_spacing, facet_col_spacing, hover_name, hover_data, animation_frame, animation_group, category_orders, labels, orientation, color_continuous_scale, range_color, color_continuous_midpoint, marginal_x, marginal_y, opacity, log_x, log_y, range_x, range_y, histfunc, histnorm, nbinsx, nbinsy, text_auto, title, subtitle, template, width, height)\u001b[39m\n\u001b[32m    149\u001b[39m \u001b[38;5;28;01mdef\u001b[39;00m\u001b[38;5;250m \u001b[39m\u001b[34mdensity_heatmap\u001b[39m(\n\u001b[32m    150\u001b[39m     data_frame=\u001b[38;5;28;01mNone\u001b[39;00m,\n\u001b[32m    151\u001b[39m     x=\u001b[38;5;28;01mNone\u001b[39;00m,\n\u001b[32m   (...)\u001b[39m\u001b[32m    185\u001b[39m     height=\u001b[38;5;28;01mNone\u001b[39;00m,\n\u001b[32m    186\u001b[39m ) -> go.Figure:\n\u001b[32m    187\u001b[39m \u001b[38;5;250m    \u001b[39m\u001b[33;03m\"\"\"\u001b[39;00m\n\u001b[32m    188\u001b[39m \u001b[33;03m    In a density heatmap, rows of `data_frame` are grouped together into\u001b[39;00m\n\u001b[32m    189\u001b[39m \u001b[33;03m    colored rectangular tiles to visualize the 2D distribution of an\u001b[39;00m\n\u001b[32m    190\u001b[39m \u001b[33;03m    aggregate function `histfunc` (e.g. the count or sum) of the value `z`.\u001b[39;00m\n\u001b[32m    191\u001b[39m \u001b[33;03m    \"\"\"\u001b[39;00m\n\u001b[32m--> \u001b[39m\u001b[32m192\u001b[39m     \u001b[38;5;28;01mreturn\u001b[39;00m \u001b[43mmake_figure\u001b[49m\u001b[43m(\u001b[49m\n\u001b[32m    193\u001b[39m \u001b[43m        \u001b[49m\u001b[43margs\u001b[49m\u001b[43m=\u001b[49m\u001b[38;5;28;43mlocals\u001b[39;49m\u001b[43m(\u001b[49m\u001b[43m)\u001b[49m\u001b[43m,\u001b[49m\n\u001b[32m    194\u001b[39m \u001b[43m        \u001b[49m\u001b[43mconstructor\u001b[49m\u001b[43m=\u001b[49m\u001b[43mgo\u001b[49m\u001b[43m.\u001b[49m\u001b[43mHistogram2d\u001b[49m\u001b[43m,\u001b[49m\n\u001b[32m    195\u001b[39m \u001b[43m        \u001b[49m\u001b[43mtrace_patch\u001b[49m\u001b[43m=\u001b[49m\u001b[38;5;28;43mdict\u001b[39;49m\u001b[43m(\u001b[49m\n\u001b[32m    196\u001b[39m \u001b[43m            \u001b[49m\u001b[43mhistfunc\u001b[49m\u001b[43m=\u001b[49m\u001b[43mhistfunc\u001b[49m\u001b[43m,\u001b[49m\n\u001b[32m    197\u001b[39m \u001b[43m            \u001b[49m\u001b[43mhistnorm\u001b[49m\u001b[43m=\u001b[49m\u001b[43mhistnorm\u001b[49m\u001b[43m,\u001b[49m\n\u001b[32m    198\u001b[39m \u001b[43m            \u001b[49m\u001b[43mnbinsx\u001b[49m\u001b[43m=\u001b[49m\u001b[43mnbinsx\u001b[49m\u001b[43m,\u001b[49m\n\u001b[32m    199\u001b[39m \u001b[43m            \u001b[49m\u001b[43mnbinsy\u001b[49m\u001b[43m=\u001b[49m\u001b[43mnbinsy\u001b[49m\u001b[43m,\u001b[49m\n\u001b[32m    200\u001b[39m \u001b[43m            \u001b[49m\u001b[43mxbingroup\u001b[49m\u001b[43m=\u001b[49m\u001b[33;43m\"\u001b[39;49m\u001b[33;43mx\u001b[39;49m\u001b[33;43m\"\u001b[39;49m\u001b[43m,\u001b[49m\n\u001b[32m    201\u001b[39m \u001b[43m            \u001b[49m\u001b[43mybingroup\u001b[49m\u001b[43m=\u001b[49m\u001b[33;43m\"\u001b[39;49m\u001b[33;43my\u001b[39;49m\u001b[33;43m\"\u001b[39;49m\u001b[43m,\u001b[49m\n\u001b[32m    202\u001b[39m \u001b[43m        \u001b[49m\u001b[43m)\u001b[49m\u001b[43m,\u001b[49m\n\u001b[32m    203\u001b[39m \u001b[43m    \u001b[49m\u001b[43m)\u001b[49m\n",
      "\u001b[36mFile \u001b[39m\u001b[32me:\\GitHub\\WeatherAnalytics\\venv\\Lib\\site-packages\\plotly\\express\\_core.py:2483\u001b[39m, in \u001b[36mmake_figure\u001b[39m\u001b[34m(args, constructor, trace_patch, layout_patch)\u001b[39m\n\u001b[32m   2480\u001b[39m layout_patch = layout_patch \u001b[38;5;129;01mor\u001b[39;00m {}\n\u001b[32m   2481\u001b[39m apply_default_cascade(args)\n\u001b[32m-> \u001b[39m\u001b[32m2483\u001b[39m args = \u001b[43mbuild_dataframe\u001b[49m\u001b[43m(\u001b[49m\u001b[43margs\u001b[49m\u001b[43m,\u001b[49m\u001b[43m \u001b[49m\u001b[43mconstructor\u001b[49m\u001b[43m)\u001b[49m\n\u001b[32m   2484\u001b[39m \u001b[38;5;28;01mif\u001b[39;00m constructor \u001b[38;5;129;01min\u001b[39;00m [go.Treemap, go.Sunburst, go.Icicle] \u001b[38;5;129;01mand\u001b[39;00m args[\u001b[33m\"\u001b[39m\u001b[33mpath\u001b[39m\u001b[33m\"\u001b[39m] \u001b[38;5;129;01mis\u001b[39;00m \u001b[38;5;129;01mnot\u001b[39;00m \u001b[38;5;28;01mNone\u001b[39;00m:\n\u001b[32m   2485\u001b[39m     args = process_dataframe_hierarchy(args)\n",
      "\u001b[36mFile \u001b[39m\u001b[32me:\\GitHub\\WeatherAnalytics\\venv\\Lib\\site-packages\\plotly\\express\\_core.py:1729\u001b[39m, in \u001b[36mbuild_dataframe\u001b[39m\u001b[34m(args, constructor)\u001b[39m\n\u001b[32m   1726\u001b[39m     args[\u001b[33m\"\u001b[39m\u001b[33mcolor\u001b[39m\u001b[33m\"\u001b[39m] = \u001b[38;5;28;01mNone\u001b[39;00m\n\u001b[32m   1727\u001b[39m \u001b[38;5;66;03m# now that things have been prepped, we do the systematic rewriting of `args`\u001b[39;00m\n\u001b[32m-> \u001b[39m\u001b[32m1729\u001b[39m df_output, wide_id_vars = \u001b[43mprocess_args_into_dataframe\u001b[49m\u001b[43m(\u001b[49m\n\u001b[32m   1730\u001b[39m \u001b[43m    \u001b[49m\u001b[43margs\u001b[49m\u001b[43m,\u001b[49m\n\u001b[32m   1731\u001b[39m \u001b[43m    \u001b[49m\u001b[43mwide_mode\u001b[49m\u001b[43m,\u001b[49m\n\u001b[32m   1732\u001b[39m \u001b[43m    \u001b[49m\u001b[43mvar_name\u001b[49m\u001b[43m,\u001b[49m\n\u001b[32m   1733\u001b[39m \u001b[43m    \u001b[49m\u001b[43mvalue_name\u001b[49m\u001b[43m,\u001b[49m\n\u001b[32m   1734\u001b[39m \u001b[43m    \u001b[49m\u001b[43mis_pd_like\u001b[49m\u001b[43m,\u001b[49m\n\u001b[32m   1735\u001b[39m \u001b[43m    \u001b[49m\u001b[43mnative_namespace\u001b[49m\u001b[43m,\u001b[49m\n\u001b[32m   1736\u001b[39m \u001b[43m\u001b[49m\u001b[43m)\u001b[49m\n\u001b[32m   1737\u001b[39m df_output: nw.DataFrame\n\u001b[32m   1738\u001b[39m \u001b[38;5;66;03m# now that `df_output` exists and `args` contains only references, we complete\u001b[39;00m\n\u001b[32m   1739\u001b[39m \u001b[38;5;66;03m# the special-case and wide-mode handling by further rewriting args and/or mutating\u001b[39;00m\n\u001b[32m   1740\u001b[39m \u001b[38;5;66;03m# df_output\u001b[39;00m\n",
      "\u001b[36mFile \u001b[39m\u001b[32me:\\GitHub\\WeatherAnalytics\\venv\\Lib\\site-packages\\plotly\\express\\_core.py:1375\u001b[39m, in \u001b[36mprocess_args_into_dataframe\u001b[39m\u001b[34m(args, wide_mode, var_name, value_name, is_pd_like, native_namespace)\u001b[39m\n\u001b[32m   1372\u001b[39m         col_name = _check_name_not_reserved(field, reserved_names)\n\u001b[32m   1374\u001b[39m     \u001b[38;5;28;01mif\u001b[39;00m length \u001b[38;5;129;01mand\u001b[39;00m (len_arg := \u001b[38;5;28mlen\u001b[39m(argument)) != length:\n\u001b[32m-> \u001b[39m\u001b[32m1375\u001b[39m         \u001b[38;5;28;01mraise\u001b[39;00m \u001b[38;5;167;01mValueError\u001b[39;00m(\n\u001b[32m   1376\u001b[39m             \u001b[33m\"\u001b[39m\u001b[33mAll arguments should have the same length. \u001b[39m\u001b[33m\"\u001b[39m\n\u001b[32m   1377\u001b[39m             \u001b[33m\"\u001b[39m\u001b[33mThe length of argument `\u001b[39m\u001b[38;5;132;01m%s\u001b[39;00m\u001b[33m` is \u001b[39m\u001b[38;5;132;01m%d\u001b[39;00m\u001b[33m, whereas the \u001b[39m\u001b[33m\"\u001b[39m\n\u001b[32m   1378\u001b[39m             \u001b[33m\"\u001b[39m\u001b[33mlength of previously-processed arguments \u001b[39m\u001b[38;5;132;01m%s\u001b[39;00m\u001b[33m is \u001b[39m\u001b[38;5;132;01m%d\u001b[39;00m\u001b[33m\"\u001b[39m\n\u001b[32m   1379\u001b[39m             % (field, len_arg, \u001b[38;5;28mstr\u001b[39m(\u001b[38;5;28mlist\u001b[39m(df_output.keys())), length)\n\u001b[32m   1380\u001b[39m         )\n\u001b[32m   1382\u001b[39m     df_output[\u001b[38;5;28mstr\u001b[39m(col_name)] = to_named_series(\n\u001b[32m   1383\u001b[39m         x=argument,\n\u001b[32m   1384\u001b[39m         name=\u001b[38;5;28mstr\u001b[39m(col_name),\n\u001b[32m   1385\u001b[39m         native_namespace=native_namespace,\n\u001b[32m   1386\u001b[39m     )\n\u001b[32m   1388\u001b[39m \u001b[38;5;66;03m# Finally, update argument with column name now that column exists\u001b[39;00m\n",
      "\u001b[31mValueError\u001b[39m: All arguments should have the same length. The length of argument `y` is 5, whereas the length of previously-processed arguments ['x'] is 7"
     ]
    }
   ],
   "source": []
  },
  {
   "cell_type": "code",
   "execution_count": 25,
   "id": "d4028c27",
   "metadata": {},
   "outputs": [],
   "source": [
    "#dates=np.array(monthly_df['date'].dt.date.astype(str))"
   ]
  },
  {
   "cell_type": "code",
   "execution_count": 26,
   "id": "7688e72e",
   "metadata": {},
   "outputs": [],
   "source": [
    "#dates[0]"
   ]
  },
  {
   "cell_type": "code",
   "execution_count": 27,
   "id": "d10fc00f",
   "metadata": {},
   "outputs": [
    {
     "data": {
      "application/vnd.plotly.v1+json": {
       "config": {
        "plotlyServerURL": "https://plot.ly"
       },
       "data": [
        {
         "colorscale": [
          [
           0,
           "rgb(49,54,149)"
          ],
          [
           0.1,
           "rgb(69,117,180)"
          ],
          [
           0.2,
           "rgb(116,173,209)"
          ],
          [
           0.3,
           "rgb(171,217,233)"
          ],
          [
           0.4,
           "rgb(224,243,248)"
          ],
          [
           0.5,
           "rgb(255,255,191)"
          ],
          [
           0.6,
           "rgb(254,224,144)"
          ],
          [
           0.7,
           "rgb(253,174,97)"
          ],
          [
           0.8,
           "rgb(244,109,67)"
          ],
          [
           0.9,
           "rgb(215,48,39)"
          ],
          [
           1,
           "rgb(165,0,38)"
          ]
         ],
         "customdata": [
          [
           "01/05/2023",
           "02/05/2023",
           "03/05/2023",
           "04/05/2023",
           "05/05/2023",
           "06/05/2023",
           "07/05/2023"
          ],
          [
           "08/05/2023",
           "09/05/2023",
           "10/05/2023",
           "11/05/2023",
           "12/05/2023",
           "13/05/2023",
           "14/05/2023"
          ],
          [
           "15/05/2023",
           "16/05/2023",
           "17/05/2023",
           "18/05/2023",
           "19/05/2023",
           "20/05/2023",
           "21/05/2023"
          ],
          [
           "22/05/2023",
           "23/05/2023",
           "24/05/2023",
           "25/05/2023",
           "26/05/2023",
           "27/05/2023",
           "28/05/2023"
          ],
          [
           "29/05/2023",
           "30/05/2023",
           "31/05/2023",
           "",
           "",
           "",
           ""
          ]
         ],
         "hoverongaps": false,
         "hovertemplate": "<b>Date</b>: %{customdata}<br><b>Temperature</b>: %{z}<br><extra></extra>",
         "type": "heatmap",
         "x": [
          "Monday",
          "Tuesday",
          "Wednesday",
          "Thursday",
          "Friday",
          "Saturday",
          "Sunday"
         ],
         "xgap": 1,
         "y": [
          "Week 1",
          "Week 2",
          "Week 3",
          "Week 4",
          "Week 5"
         ],
         "ygap": 1,
         "z": {
          "bdata": "JLIPsqz9OkDfoxFGRoc8QGD73OPfUDtAOOmQrqz1OkCoSm4nJPU8QDDT9q+svT1ApST+OzXePkAsyKmwrL0/QAzWJdBNFkBAc/HKCAJzP0C3NQ9NRhc/QCDC5Z6bhD9A/LrmaGipPkC1UDI5Nd4+QNGdTTQ1tj1AKL1csaw9P0Aj6FWKits9QEXvVMC9tjxA9KRMamihPUDVjXdHRt8+QBy3mJ+blD9AvWbMNzVmP0CpL0s7Nc4+QKhKbick5TxA/Z/DfHm6PkDLbJBJRjc8QPCZ/2poYTxAK+PMnJs0PUBL337Tzpc/QJ1qGgEC8z5ArHKh8m8YQEAAAAAAAAD4fwAAAAAAAPh/AAAAAAAA+H8AAAAAAAD4fw==",
          "dtype": "f8",
          "shape": "5, 7"
         }
        }
       ],
       "layout": {
        "autosize": true,
        "height": 500,
        "template": {
         "data": {
          "bar": [
           {
            "error_x": {
             "color": "#2a3f5f"
            },
            "error_y": {
             "color": "#2a3f5f"
            },
            "marker": {
             "line": {
              "color": "#E5ECF6",
              "width": 0.5
             },
             "pattern": {
              "fillmode": "overlay",
              "size": 10,
              "solidity": 0.2
             }
            },
            "type": "bar"
           }
          ],
          "barpolar": [
           {
            "marker": {
             "line": {
              "color": "#E5ECF6",
              "width": 0.5
             },
             "pattern": {
              "fillmode": "overlay",
              "size": 10,
              "solidity": 0.2
             }
            },
            "type": "barpolar"
           }
          ],
          "carpet": [
           {
            "aaxis": {
             "endlinecolor": "#2a3f5f",
             "gridcolor": "white",
             "linecolor": "white",
             "minorgridcolor": "white",
             "startlinecolor": "#2a3f5f"
            },
            "baxis": {
             "endlinecolor": "#2a3f5f",
             "gridcolor": "white",
             "linecolor": "white",
             "minorgridcolor": "white",
             "startlinecolor": "#2a3f5f"
            },
            "type": "carpet"
           }
          ],
          "choropleth": [
           {
            "colorbar": {
             "outlinewidth": 0,
             "ticks": ""
            },
            "type": "choropleth"
           }
          ],
          "contour": [
           {
            "colorbar": {
             "outlinewidth": 0,
             "ticks": ""
            },
            "colorscale": [
             [
              0,
              "#0d0887"
             ],
             [
              0.1111111111111111,
              "#46039f"
             ],
             [
              0.2222222222222222,
              "#7201a8"
             ],
             [
              0.3333333333333333,
              "#9c179e"
             ],
             [
              0.4444444444444444,
              "#bd3786"
             ],
             [
              0.5555555555555556,
              "#d8576b"
             ],
             [
              0.6666666666666666,
              "#ed7953"
             ],
             [
              0.7777777777777778,
              "#fb9f3a"
             ],
             [
              0.8888888888888888,
              "#fdca26"
             ],
             [
              1,
              "#f0f921"
             ]
            ],
            "type": "contour"
           }
          ],
          "contourcarpet": [
           {
            "colorbar": {
             "outlinewidth": 0,
             "ticks": ""
            },
            "type": "contourcarpet"
           }
          ],
          "heatmap": [
           {
            "colorbar": {
             "outlinewidth": 0,
             "ticks": ""
            },
            "colorscale": [
             [
              0,
              "#0d0887"
             ],
             [
              0.1111111111111111,
              "#46039f"
             ],
             [
              0.2222222222222222,
              "#7201a8"
             ],
             [
              0.3333333333333333,
              "#9c179e"
             ],
             [
              0.4444444444444444,
              "#bd3786"
             ],
             [
              0.5555555555555556,
              "#d8576b"
             ],
             [
              0.6666666666666666,
              "#ed7953"
             ],
             [
              0.7777777777777778,
              "#fb9f3a"
             ],
             [
              0.8888888888888888,
              "#fdca26"
             ],
             [
              1,
              "#f0f921"
             ]
            ],
            "type": "heatmap"
           }
          ],
          "histogram": [
           {
            "marker": {
             "pattern": {
              "fillmode": "overlay",
              "size": 10,
              "solidity": 0.2
             }
            },
            "type": "histogram"
           }
          ],
          "histogram2d": [
           {
            "colorbar": {
             "outlinewidth": 0,
             "ticks": ""
            },
            "colorscale": [
             [
              0,
              "#0d0887"
             ],
             [
              0.1111111111111111,
              "#46039f"
             ],
             [
              0.2222222222222222,
              "#7201a8"
             ],
             [
              0.3333333333333333,
              "#9c179e"
             ],
             [
              0.4444444444444444,
              "#bd3786"
             ],
             [
              0.5555555555555556,
              "#d8576b"
             ],
             [
              0.6666666666666666,
              "#ed7953"
             ],
             [
              0.7777777777777778,
              "#fb9f3a"
             ],
             [
              0.8888888888888888,
              "#fdca26"
             ],
             [
              1,
              "#f0f921"
             ]
            ],
            "type": "histogram2d"
           }
          ],
          "histogram2dcontour": [
           {
            "colorbar": {
             "outlinewidth": 0,
             "ticks": ""
            },
            "colorscale": [
             [
              0,
              "#0d0887"
             ],
             [
              0.1111111111111111,
              "#46039f"
             ],
             [
              0.2222222222222222,
              "#7201a8"
             ],
             [
              0.3333333333333333,
              "#9c179e"
             ],
             [
              0.4444444444444444,
              "#bd3786"
             ],
             [
              0.5555555555555556,
              "#d8576b"
             ],
             [
              0.6666666666666666,
              "#ed7953"
             ],
             [
              0.7777777777777778,
              "#fb9f3a"
             ],
             [
              0.8888888888888888,
              "#fdca26"
             ],
             [
              1,
              "#f0f921"
             ]
            ],
            "type": "histogram2dcontour"
           }
          ],
          "mesh3d": [
           {
            "colorbar": {
             "outlinewidth": 0,
             "ticks": ""
            },
            "type": "mesh3d"
           }
          ],
          "parcoords": [
           {
            "line": {
             "colorbar": {
              "outlinewidth": 0,
              "ticks": ""
             }
            },
            "type": "parcoords"
           }
          ],
          "pie": [
           {
            "automargin": true,
            "type": "pie"
           }
          ],
          "scatter": [
           {
            "fillpattern": {
             "fillmode": "overlay",
             "size": 10,
             "solidity": 0.2
            },
            "type": "scatter"
           }
          ],
          "scatter3d": [
           {
            "line": {
             "colorbar": {
              "outlinewidth": 0,
              "ticks": ""
             }
            },
            "marker": {
             "colorbar": {
              "outlinewidth": 0,
              "ticks": ""
             }
            },
            "type": "scatter3d"
           }
          ],
          "scattercarpet": [
           {
            "marker": {
             "colorbar": {
              "outlinewidth": 0,
              "ticks": ""
             }
            },
            "type": "scattercarpet"
           }
          ],
          "scattergeo": [
           {
            "marker": {
             "colorbar": {
              "outlinewidth": 0,
              "ticks": ""
             }
            },
            "type": "scattergeo"
           }
          ],
          "scattergl": [
           {
            "marker": {
             "colorbar": {
              "outlinewidth": 0,
              "ticks": ""
             }
            },
            "type": "scattergl"
           }
          ],
          "scattermap": [
           {
            "marker": {
             "colorbar": {
              "outlinewidth": 0,
              "ticks": ""
             }
            },
            "type": "scattermap"
           }
          ],
          "scattermapbox": [
           {
            "marker": {
             "colorbar": {
              "outlinewidth": 0,
              "ticks": ""
             }
            },
            "type": "scattermapbox"
           }
          ],
          "scatterpolar": [
           {
            "marker": {
             "colorbar": {
              "outlinewidth": 0,
              "ticks": ""
             }
            },
            "type": "scatterpolar"
           }
          ],
          "scatterpolargl": [
           {
            "marker": {
             "colorbar": {
              "outlinewidth": 0,
              "ticks": ""
             }
            },
            "type": "scatterpolargl"
           }
          ],
          "scatterternary": [
           {
            "marker": {
             "colorbar": {
              "outlinewidth": 0,
              "ticks": ""
             }
            },
            "type": "scatterternary"
           }
          ],
          "surface": [
           {
            "colorbar": {
             "outlinewidth": 0,
             "ticks": ""
            },
            "colorscale": [
             [
              0,
              "#0d0887"
             ],
             [
              0.1111111111111111,
              "#46039f"
             ],
             [
              0.2222222222222222,
              "#7201a8"
             ],
             [
              0.3333333333333333,
              "#9c179e"
             ],
             [
              0.4444444444444444,
              "#bd3786"
             ],
             [
              0.5555555555555556,
              "#d8576b"
             ],
             [
              0.6666666666666666,
              "#ed7953"
             ],
             [
              0.7777777777777778,
              "#fb9f3a"
             ],
             [
              0.8888888888888888,
              "#fdca26"
             ],
             [
              1,
              "#f0f921"
             ]
            ],
            "type": "surface"
           }
          ],
          "table": [
           {
            "cells": {
             "fill": {
              "color": "#EBF0F8"
             },
             "line": {
              "color": "white"
             }
            },
            "header": {
             "fill": {
              "color": "#C8D4E3"
             },
             "line": {
              "color": "white"
             }
            },
            "type": "table"
           }
          ]
         },
         "layout": {
          "annotationdefaults": {
           "arrowcolor": "#2a3f5f",
           "arrowhead": 0,
           "arrowwidth": 1
          },
          "autotypenumbers": "strict",
          "coloraxis": {
           "colorbar": {
            "outlinewidth": 0,
            "ticks": ""
           }
          },
          "colorscale": {
           "diverging": [
            [
             0,
             "#8e0152"
            ],
            [
             0.1,
             "#c51b7d"
            ],
            [
             0.2,
             "#de77ae"
            ],
            [
             0.3,
             "#f1b6da"
            ],
            [
             0.4,
             "#fde0ef"
            ],
            [
             0.5,
             "#f7f7f7"
            ],
            [
             0.6,
             "#e6f5d0"
            ],
            [
             0.7,
             "#b8e186"
            ],
            [
             0.8,
             "#7fbc41"
            ],
            [
             0.9,
             "#4d9221"
            ],
            [
             1,
             "#276419"
            ]
           ],
           "sequential": [
            [
             0,
             "#0d0887"
            ],
            [
             0.1111111111111111,
             "#46039f"
            ],
            [
             0.2222222222222222,
             "#7201a8"
            ],
            [
             0.3333333333333333,
             "#9c179e"
            ],
            [
             0.4444444444444444,
             "#bd3786"
            ],
            [
             0.5555555555555556,
             "#d8576b"
            ],
            [
             0.6666666666666666,
             "#ed7953"
            ],
            [
             0.7777777777777778,
             "#fb9f3a"
            ],
            [
             0.8888888888888888,
             "#fdca26"
            ],
            [
             1,
             "#f0f921"
            ]
           ],
           "sequentialminus": [
            [
             0,
             "#0d0887"
            ],
            [
             0.1111111111111111,
             "#46039f"
            ],
            [
             0.2222222222222222,
             "#7201a8"
            ],
            [
             0.3333333333333333,
             "#9c179e"
            ],
            [
             0.4444444444444444,
             "#bd3786"
            ],
            [
             0.5555555555555556,
             "#d8576b"
            ],
            [
             0.6666666666666666,
             "#ed7953"
            ],
            [
             0.7777777777777778,
             "#fb9f3a"
            ],
            [
             0.8888888888888888,
             "#fdca26"
            ],
            [
             1,
             "#f0f921"
            ]
           ]
          },
          "colorway": [
           "#636efa",
           "#EF553B",
           "#00cc96",
           "#ab63fa",
           "#FFA15A",
           "#19d3f3",
           "#FF6692",
           "#B6E880",
           "#FF97FF",
           "#FECB52"
          ],
          "font": {
           "color": "#2a3f5f"
          },
          "geo": {
           "bgcolor": "white",
           "lakecolor": "white",
           "landcolor": "#E5ECF6",
           "showlakes": true,
           "showland": true,
           "subunitcolor": "white"
          },
          "hoverlabel": {
           "align": "left"
          },
          "hovermode": "closest",
          "mapbox": {
           "style": "light"
          },
          "paper_bgcolor": "white",
          "plot_bgcolor": "#E5ECF6",
          "polar": {
           "angularaxis": {
            "gridcolor": "white",
            "linecolor": "white",
            "ticks": ""
           },
           "bgcolor": "#E5ECF6",
           "radialaxis": {
            "gridcolor": "white",
            "linecolor": "white",
            "ticks": ""
           }
          },
          "scene": {
           "xaxis": {
            "backgroundcolor": "#E5ECF6",
            "gridcolor": "white",
            "gridwidth": 2,
            "linecolor": "white",
            "showbackground": true,
            "ticks": "",
            "zerolinecolor": "white"
           },
           "yaxis": {
            "backgroundcolor": "#E5ECF6",
            "gridcolor": "white",
            "gridwidth": 2,
            "linecolor": "white",
            "showbackground": true,
            "ticks": "",
            "zerolinecolor": "white"
           },
           "zaxis": {
            "backgroundcolor": "#E5ECF6",
            "gridcolor": "white",
            "gridwidth": 2,
            "linecolor": "white",
            "showbackground": true,
            "ticks": "",
            "zerolinecolor": "white"
           }
          },
          "shapedefaults": {
           "line": {
            "color": "#2a3f5f"
           }
          },
          "ternary": {
           "aaxis": {
            "gridcolor": "white",
            "linecolor": "white",
            "ticks": ""
           },
           "baxis": {
            "gridcolor": "white",
            "linecolor": "white",
            "ticks": ""
           },
           "bgcolor": "#E5ECF6",
           "caxis": {
            "gridcolor": "white",
            "linecolor": "white",
            "ticks": ""
           }
          },
          "title": {
           "x": 0.05
          },
          "xaxis": {
           "automargin": true,
           "gridcolor": "white",
           "linecolor": "white",
           "ticks": "",
           "title": {
            "standoff": 15
           },
           "zerolinecolor": "white",
           "zerolinewidth": 2
          },
          "yaxis": {
           "automargin": true,
           "gridcolor": "white",
           "linecolor": "white",
           "ticks": "",
           "title": {
            "standoff": 15
           },
           "zerolinecolor": "white",
           "zerolinewidth": 2
          }
         }
        },
        "title": {
         "text": "Temperature Heatmap",
         "x": 0.5,
         "y": 0.1
        },
        "width": 600,
        "xaxis": {
         "side": "top",
         "tickangle": 45,
         "title": {
          "text": "Month"
         }
        },
        "yaxis": {
         "automargin": true,
         "autorange": "reversed"
        }
       }
      }
     },
     "metadata": {},
     "output_type": "display_data"
    }
   ],
   "source": [
    "\n",
    "fig = go.Figure(data=go.Heatmap(\n",
    "                    z=monthly_temp,\n",
    "                    x=['Monday', 'Tuesday', 'Wednesday', 'Thursday', 'Friday', 'Saturday', 'Sunday'],\n",
    "                    y=['Week 1', 'Week 2', 'Week 3', 'Week 4', 'Week 5'],colorscale='rdylbu_r',\n",
    "                    customdata=dates,\n",
    "                    hoverongaps = False,\n",
    "                    hovertemplate =\n",
    "                    '<b>Date</b>: %{customdata}'+\n",
    "                    '<br><b>Temperature</b>: %{z}<br>'+'<extra></extra>',\n",
    "                    xgap=1,\n",
    "                    ygap=1   ))\n",
    "fig.update_layout(\n",
    "    autosize=True,\n",
    "    xaxis=dict(title='Month', side='top', tickangle=45),\n",
    "    yaxis=dict(\n",
    "        autorange='reversed',\n",
    "        automargin=True,\n",
    "    ),\n",
    "    height=500,\n",
    "    width=600,\n",
    "    title=dict(text='Temperature Heatmap',x=0.5,y=0.1)\n",
    ")\n",
    "fig.update_yaxes(automargin=True)\n",
    "\n",
    "fig.show()"
   ]
  },
  {
   "cell_type": "code",
   "execution_count": 30,
   "id": "1c57ea67",
   "metadata": {},
   "outputs": [],
   "source": [
    "rain=monthly_df['rain']"
   ]
  },
  {
   "cell_type": "code",
   "execution_count": 33,
   "id": "cec7c374",
   "metadata": {},
   "outputs": [
    {
     "data": {
      "text/plain": [
       "array([['01/05/2023', '02/05/2023', '03/05/2023', '04/05/2023',\n",
       "        '05/05/2023', '06/05/2023', '07/05/2023'],\n",
       "       ['08/05/2023', '09/05/2023', '10/05/2023', '11/05/2023',\n",
       "        '12/05/2023', '13/05/2023', '14/05/2023'],\n",
       "       ['15/05/2023', '16/05/2023', '17/05/2023', '18/05/2023',\n",
       "        '19/05/2023', '20/05/2023', '21/05/2023'],\n",
       "       ['22/05/2023', '23/05/2023', '24/05/2023', '25/05/2023',\n",
       "        '26/05/2023', '27/05/2023', '28/05/2023'],\n",
       "       ['29/05/2023', '30/05/2023', '31/05/2023', '', '', '', '']],\n",
       "      dtype='<U20')"
      ]
     },
     "execution_count": 33,
     "metadata": {},
     "output_type": "execute_result"
    }
   ],
   "source": [
    "dates"
   ]
  },
  {
   "cell_type": "code",
   "execution_count": 39,
   "id": "3de61d73",
   "metadata": {},
   "outputs": [
    {
     "data": {
      "application/vnd.plotly.v1+json": {
       "config": {
        "plotlyServerURL": "https://plot.ly"
       },
       "data": [
        {
         "hovertemplate": "date=%{x}<br>temperature_2m=%{y}<extra></extra>",
         "legendgroup": "",
         "line": {
          "color": "#636efa",
          "dash": "solid"
         },
         "marker": {
          "symbol": "circle"
         },
         "mode": "lines",
         "name": "",
         "orientation": "v",
         "showlegend": false,
         "type": "scatter",
         "x": [
          "2023-05-01T00:00:00.000000000",
          "2023-05-02T00:00:00.000000000",
          "2023-05-03T00:00:00.000000000",
          "2023-05-04T00:00:00.000000000",
          "2023-05-05T00:00:00.000000000",
          "2023-05-06T00:00:00.000000000",
          "2023-05-07T00:00:00.000000000",
          "2023-05-08T00:00:00.000000000",
          "2023-05-09T00:00:00.000000000",
          "2023-05-10T00:00:00.000000000",
          "2023-05-11T00:00:00.000000000",
          "2023-05-12T00:00:00.000000000",
          "2023-05-13T00:00:00.000000000",
          "2023-05-14T00:00:00.000000000",
          "2023-05-15T00:00:00.000000000",
          "2023-05-16T00:00:00.000000000",
          "2023-05-17T00:00:00.000000000",
          "2023-05-18T00:00:00.000000000",
          "2023-05-19T00:00:00.000000000",
          "2023-05-20T00:00:00.000000000",
          "2023-05-21T00:00:00.000000000",
          "2023-05-22T00:00:00.000000000",
          "2023-05-23T00:00:00.000000000",
          "2023-05-24T00:00:00.000000000",
          "2023-05-25T00:00:00.000000000",
          "2023-05-26T00:00:00.000000000",
          "2023-05-27T00:00:00.000000000",
          "2023-05-28T00:00:00.000000000",
          "2023-05-29T00:00:00.000000000",
          "2023-05-30T00:00:00.000000000",
          "2023-05-31T00:00:00.000000000"
         ],
         "xaxis": "x",
         "y": {
          "bdata": "JLIPsqz9OkDfoxFGRoc8QGD73OPfUDtAOOmQrqz1OkCoSm4nJPU8QDDT9q+svT1ApST+OzXePkAsyKmwrL0/QAzWJdBNFkBAc/HKCAJzP0C3NQ9NRhc/QCDC5Z6bhD9A/LrmaGipPkC1UDI5Nd4+QNGdTTQ1tj1AKL1csaw9P0Aj6FWKits9QEXvVMC9tjxA9KRMamihPUDVjXdHRt8+QBy3mJ+blD9AvWbMNzVmP0CpL0s7Nc4+QKhKbick5TxA/Z/DfHm6PkDLbJBJRjc8QPCZ/2poYTxAK+PMnJs0PUBL337Tzpc/QJ1qGgEC8z5ArHKh8m8YQEA=",
          "dtype": "f8"
         },
         "yaxis": "y"
        }
       ],
       "layout": {
        "legend": {
         "tracegroupgap": 0
        },
        "margin": {
         "t": 60
        },
        "template": {
         "data": {
          "bar": [
           {
            "error_x": {
             "color": "#2a3f5f"
            },
            "error_y": {
             "color": "#2a3f5f"
            },
            "marker": {
             "line": {
              "color": "#E5ECF6",
              "width": 0.5
             },
             "pattern": {
              "fillmode": "overlay",
              "size": 10,
              "solidity": 0.2
             }
            },
            "type": "bar"
           }
          ],
          "barpolar": [
           {
            "marker": {
             "line": {
              "color": "#E5ECF6",
              "width": 0.5
             },
             "pattern": {
              "fillmode": "overlay",
              "size": 10,
              "solidity": 0.2
             }
            },
            "type": "barpolar"
           }
          ],
          "carpet": [
           {
            "aaxis": {
             "endlinecolor": "#2a3f5f",
             "gridcolor": "white",
             "linecolor": "white",
             "minorgridcolor": "white",
             "startlinecolor": "#2a3f5f"
            },
            "baxis": {
             "endlinecolor": "#2a3f5f",
             "gridcolor": "white",
             "linecolor": "white",
             "minorgridcolor": "white",
             "startlinecolor": "#2a3f5f"
            },
            "type": "carpet"
           }
          ],
          "choropleth": [
           {
            "colorbar": {
             "outlinewidth": 0,
             "ticks": ""
            },
            "type": "choropleth"
           }
          ],
          "contour": [
           {
            "colorbar": {
             "outlinewidth": 0,
             "ticks": ""
            },
            "colorscale": [
             [
              0,
              "#0d0887"
             ],
             [
              0.1111111111111111,
              "#46039f"
             ],
             [
              0.2222222222222222,
              "#7201a8"
             ],
             [
              0.3333333333333333,
              "#9c179e"
             ],
             [
              0.4444444444444444,
              "#bd3786"
             ],
             [
              0.5555555555555556,
              "#d8576b"
             ],
             [
              0.6666666666666666,
              "#ed7953"
             ],
             [
              0.7777777777777778,
              "#fb9f3a"
             ],
             [
              0.8888888888888888,
              "#fdca26"
             ],
             [
              1,
              "#f0f921"
             ]
            ],
            "type": "contour"
           }
          ],
          "contourcarpet": [
           {
            "colorbar": {
             "outlinewidth": 0,
             "ticks": ""
            },
            "type": "contourcarpet"
           }
          ],
          "heatmap": [
           {
            "colorbar": {
             "outlinewidth": 0,
             "ticks": ""
            },
            "colorscale": [
             [
              0,
              "#0d0887"
             ],
             [
              0.1111111111111111,
              "#46039f"
             ],
             [
              0.2222222222222222,
              "#7201a8"
             ],
             [
              0.3333333333333333,
              "#9c179e"
             ],
             [
              0.4444444444444444,
              "#bd3786"
             ],
             [
              0.5555555555555556,
              "#d8576b"
             ],
             [
              0.6666666666666666,
              "#ed7953"
             ],
             [
              0.7777777777777778,
              "#fb9f3a"
             ],
             [
              0.8888888888888888,
              "#fdca26"
             ],
             [
              1,
              "#f0f921"
             ]
            ],
            "type": "heatmap"
           }
          ],
          "histogram": [
           {
            "marker": {
             "pattern": {
              "fillmode": "overlay",
              "size": 10,
              "solidity": 0.2
             }
            },
            "type": "histogram"
           }
          ],
          "histogram2d": [
           {
            "colorbar": {
             "outlinewidth": 0,
             "ticks": ""
            },
            "colorscale": [
             [
              0,
              "#0d0887"
             ],
             [
              0.1111111111111111,
              "#46039f"
             ],
             [
              0.2222222222222222,
              "#7201a8"
             ],
             [
              0.3333333333333333,
              "#9c179e"
             ],
             [
              0.4444444444444444,
              "#bd3786"
             ],
             [
              0.5555555555555556,
              "#d8576b"
             ],
             [
              0.6666666666666666,
              "#ed7953"
             ],
             [
              0.7777777777777778,
              "#fb9f3a"
             ],
             [
              0.8888888888888888,
              "#fdca26"
             ],
             [
              1,
              "#f0f921"
             ]
            ],
            "type": "histogram2d"
           }
          ],
          "histogram2dcontour": [
           {
            "colorbar": {
             "outlinewidth": 0,
             "ticks": ""
            },
            "colorscale": [
             [
              0,
              "#0d0887"
             ],
             [
              0.1111111111111111,
              "#46039f"
             ],
             [
              0.2222222222222222,
              "#7201a8"
             ],
             [
              0.3333333333333333,
              "#9c179e"
             ],
             [
              0.4444444444444444,
              "#bd3786"
             ],
             [
              0.5555555555555556,
              "#d8576b"
             ],
             [
              0.6666666666666666,
              "#ed7953"
             ],
             [
              0.7777777777777778,
              "#fb9f3a"
             ],
             [
              0.8888888888888888,
              "#fdca26"
             ],
             [
              1,
              "#f0f921"
             ]
            ],
            "type": "histogram2dcontour"
           }
          ],
          "mesh3d": [
           {
            "colorbar": {
             "outlinewidth": 0,
             "ticks": ""
            },
            "type": "mesh3d"
           }
          ],
          "parcoords": [
           {
            "line": {
             "colorbar": {
              "outlinewidth": 0,
              "ticks": ""
             }
            },
            "type": "parcoords"
           }
          ],
          "pie": [
           {
            "automargin": true,
            "type": "pie"
           }
          ],
          "scatter": [
           {
            "fillpattern": {
             "fillmode": "overlay",
             "size": 10,
             "solidity": 0.2
            },
            "type": "scatter"
           }
          ],
          "scatter3d": [
           {
            "line": {
             "colorbar": {
              "outlinewidth": 0,
              "ticks": ""
             }
            },
            "marker": {
             "colorbar": {
              "outlinewidth": 0,
              "ticks": ""
             }
            },
            "type": "scatter3d"
           }
          ],
          "scattercarpet": [
           {
            "marker": {
             "colorbar": {
              "outlinewidth": 0,
              "ticks": ""
             }
            },
            "type": "scattercarpet"
           }
          ],
          "scattergeo": [
           {
            "marker": {
             "colorbar": {
              "outlinewidth": 0,
              "ticks": ""
             }
            },
            "type": "scattergeo"
           }
          ],
          "scattergl": [
           {
            "marker": {
             "colorbar": {
              "outlinewidth": 0,
              "ticks": ""
             }
            },
            "type": "scattergl"
           }
          ],
          "scattermap": [
           {
            "marker": {
             "colorbar": {
              "outlinewidth": 0,
              "ticks": ""
             }
            },
            "type": "scattermap"
           }
          ],
          "scattermapbox": [
           {
            "marker": {
             "colorbar": {
              "outlinewidth": 0,
              "ticks": ""
             }
            },
            "type": "scattermapbox"
           }
          ],
          "scatterpolar": [
           {
            "marker": {
             "colorbar": {
              "outlinewidth": 0,
              "ticks": ""
             }
            },
            "type": "scatterpolar"
           }
          ],
          "scatterpolargl": [
           {
            "marker": {
             "colorbar": {
              "outlinewidth": 0,
              "ticks": ""
             }
            },
            "type": "scatterpolargl"
           }
          ],
          "scatterternary": [
           {
            "marker": {
             "colorbar": {
              "outlinewidth": 0,
              "ticks": ""
             }
            },
            "type": "scatterternary"
           }
          ],
          "surface": [
           {
            "colorbar": {
             "outlinewidth": 0,
             "ticks": ""
            },
            "colorscale": [
             [
              0,
              "#0d0887"
             ],
             [
              0.1111111111111111,
              "#46039f"
             ],
             [
              0.2222222222222222,
              "#7201a8"
             ],
             [
              0.3333333333333333,
              "#9c179e"
             ],
             [
              0.4444444444444444,
              "#bd3786"
             ],
             [
              0.5555555555555556,
              "#d8576b"
             ],
             [
              0.6666666666666666,
              "#ed7953"
             ],
             [
              0.7777777777777778,
              "#fb9f3a"
             ],
             [
              0.8888888888888888,
              "#fdca26"
             ],
             [
              1,
              "#f0f921"
             ]
            ],
            "type": "surface"
           }
          ],
          "table": [
           {
            "cells": {
             "fill": {
              "color": "#EBF0F8"
             },
             "line": {
              "color": "white"
             }
            },
            "header": {
             "fill": {
              "color": "#C8D4E3"
             },
             "line": {
              "color": "white"
             }
            },
            "type": "table"
           }
          ]
         },
         "layout": {
          "annotationdefaults": {
           "arrowcolor": "#2a3f5f",
           "arrowhead": 0,
           "arrowwidth": 1
          },
          "autotypenumbers": "strict",
          "coloraxis": {
           "colorbar": {
            "outlinewidth": 0,
            "ticks": ""
           }
          },
          "colorscale": {
           "diverging": [
            [
             0,
             "#8e0152"
            ],
            [
             0.1,
             "#c51b7d"
            ],
            [
             0.2,
             "#de77ae"
            ],
            [
             0.3,
             "#f1b6da"
            ],
            [
             0.4,
             "#fde0ef"
            ],
            [
             0.5,
             "#f7f7f7"
            ],
            [
             0.6,
             "#e6f5d0"
            ],
            [
             0.7,
             "#b8e186"
            ],
            [
             0.8,
             "#7fbc41"
            ],
            [
             0.9,
             "#4d9221"
            ],
            [
             1,
             "#276419"
            ]
           ],
           "sequential": [
            [
             0,
             "#0d0887"
            ],
            [
             0.1111111111111111,
             "#46039f"
            ],
            [
             0.2222222222222222,
             "#7201a8"
            ],
            [
             0.3333333333333333,
             "#9c179e"
            ],
            [
             0.4444444444444444,
             "#bd3786"
            ],
            [
             0.5555555555555556,
             "#d8576b"
            ],
            [
             0.6666666666666666,
             "#ed7953"
            ],
            [
             0.7777777777777778,
             "#fb9f3a"
            ],
            [
             0.8888888888888888,
             "#fdca26"
            ],
            [
             1,
             "#f0f921"
            ]
           ],
           "sequentialminus": [
            [
             0,
             "#0d0887"
            ],
            [
             0.1111111111111111,
             "#46039f"
            ],
            [
             0.2222222222222222,
             "#7201a8"
            ],
            [
             0.3333333333333333,
             "#9c179e"
            ],
            [
             0.4444444444444444,
             "#bd3786"
            ],
            [
             0.5555555555555556,
             "#d8576b"
            ],
            [
             0.6666666666666666,
             "#ed7953"
            ],
            [
             0.7777777777777778,
             "#fb9f3a"
            ],
            [
             0.8888888888888888,
             "#fdca26"
            ],
            [
             1,
             "#f0f921"
            ]
           ]
          },
          "colorway": [
           "#636efa",
           "#EF553B",
           "#00cc96",
           "#ab63fa",
           "#FFA15A",
           "#19d3f3",
           "#FF6692",
           "#B6E880",
           "#FF97FF",
           "#FECB52"
          ],
          "font": {
           "color": "#2a3f5f"
          },
          "geo": {
           "bgcolor": "white",
           "lakecolor": "white",
           "landcolor": "#E5ECF6",
           "showlakes": true,
           "showland": true,
           "subunitcolor": "white"
          },
          "hoverlabel": {
           "align": "left"
          },
          "hovermode": "closest",
          "mapbox": {
           "style": "light"
          },
          "paper_bgcolor": "white",
          "plot_bgcolor": "#E5ECF6",
          "polar": {
           "angularaxis": {
            "gridcolor": "white",
            "linecolor": "white",
            "ticks": ""
           },
           "bgcolor": "#E5ECF6",
           "radialaxis": {
            "gridcolor": "white",
            "linecolor": "white",
            "ticks": ""
           }
          },
          "scene": {
           "xaxis": {
            "backgroundcolor": "#E5ECF6",
            "gridcolor": "white",
            "gridwidth": 2,
            "linecolor": "white",
            "showbackground": true,
            "ticks": "",
            "zerolinecolor": "white"
           },
           "yaxis": {
            "backgroundcolor": "#E5ECF6",
            "gridcolor": "white",
            "gridwidth": 2,
            "linecolor": "white",
            "showbackground": true,
            "ticks": "",
            "zerolinecolor": "white"
           },
           "zaxis": {
            "backgroundcolor": "#E5ECF6",
            "gridcolor": "white",
            "gridwidth": 2,
            "linecolor": "white",
            "showbackground": true,
            "ticks": "",
            "zerolinecolor": "white"
           }
          },
          "shapedefaults": {
           "line": {
            "color": "#2a3f5f"
           }
          },
          "ternary": {
           "aaxis": {
            "gridcolor": "white",
            "linecolor": "white",
            "ticks": ""
           },
           "baxis": {
            "gridcolor": "white",
            "linecolor": "white",
            "ticks": ""
           },
           "bgcolor": "#E5ECF6",
           "caxis": {
            "gridcolor": "white",
            "linecolor": "white",
            "ticks": ""
           }
          },
          "title": {
           "x": 0.05
          },
          "xaxis": {
           "automargin": true,
           "gridcolor": "white",
           "linecolor": "white",
           "ticks": "",
           "title": {
            "standoff": 15
           },
           "zerolinecolor": "white",
           "zerolinewidth": 2
          },
          "yaxis": {
           "automargin": true,
           "gridcolor": "white",
           "linecolor": "white",
           "ticks": "",
           "title": {
            "standoff": 15
           },
           "zerolinecolor": "white",
           "zerolinewidth": 2
          }
         }
        },
        "xaxis": {
         "anchor": "y",
         "domain": [
          0,
          1
         ],
         "title": {
          "text": "date"
         }
        },
        "yaxis": {
         "anchor": "x",
         "domain": [
          0,
          1
         ],
         "title": {
          "text": "temperature_2m"
         }
        }
       }
      }
     },
     "metadata": {},
     "output_type": "display_data"
    }
   ],
   "source": [
    "fig = px.line(monthly_df, x=monthly_df['date'], y=monthly_df['temperature_2m'])\n",
    "fig.show()"
   ]
  },
  {
   "cell_type": "code",
   "execution_count": 38,
   "id": "d0976058",
   "metadata": {},
   "outputs": [
    {
     "data": {
      "application/vnd.plotly.v1+json": {
       "config": {
        "plotlyServerURL": "https://plot.ly"
       },
       "data": [
        {
         "hovertemplate": "date=%{x}<br>rain=%{y}<extra></extra>",
         "legendgroup": "",
         "marker": {
          "color": "#636efa",
          "pattern": {
           "shape": ""
          }
         },
         "name": "",
         "orientation": "v",
         "showlegend": false,
         "textposition": "auto",
         "type": "bar",
         "x": [
          "2023-05-01T00:00:00.000000000",
          "2023-05-02T00:00:00.000000000",
          "2023-05-03T00:00:00.000000000",
          "2023-05-04T00:00:00.000000000",
          "2023-05-05T00:00:00.000000000",
          "2023-05-06T00:00:00.000000000",
          "2023-05-07T00:00:00.000000000",
          "2023-05-08T00:00:00.000000000",
          "2023-05-09T00:00:00.000000000",
          "2023-05-10T00:00:00.000000000",
          "2023-05-11T00:00:00.000000000",
          "2023-05-12T00:00:00.000000000",
          "2023-05-13T00:00:00.000000000",
          "2023-05-14T00:00:00.000000000",
          "2023-05-15T00:00:00.000000000",
          "2023-05-16T00:00:00.000000000",
          "2023-05-17T00:00:00.000000000",
          "2023-05-18T00:00:00.000000000",
          "2023-05-19T00:00:00.000000000",
          "2023-05-20T00:00:00.000000000",
          "2023-05-21T00:00:00.000000000",
          "2023-05-22T00:00:00.000000000",
          "2023-05-23T00:00:00.000000000",
          "2023-05-24T00:00:00.000000000",
          "2023-05-25T00:00:00.000000000",
          "2023-05-26T00:00:00.000000000",
          "2023-05-27T00:00:00.000000000",
          "2023-05-28T00:00:00.000000000",
          "2023-05-29T00:00:00.000000000",
          "2023-05-30T00:00:00.000000000",
          "2023-05-31T00:00:00.000000000"
         ],
         "xaxis": "x",
         "y": {
          "bdata": "AAAAAAAAAAAAAAAAAAAAAERERERERNw/m5mZmZmZuT8AAAAAAAAAABEREREREZE/AAAAAAAAAAAAAAAAAAAAABEREREREXE/MzMzMzMzoz8RERERERGRPxEREREREXE/eHd3d3d3pz8AAAAAAAAAAJuZmZmZmZk/Z2ZmZmZm0j/v7u7u7u7SPwEAAAAAAOQ/vLu7u7u78j9VVVVVVVXFPwAAAAAAAAAAAAAAAAAAAABVVVVVVVW1P3d3d3d3d9M/mZmZmZmZ1T/d3d3d3d3tP4mIiIiIiMg/iYiIiIiIuD8AAAAAAAAAAN3d3d3d3Z0/3d3d3d3drT8=",
          "dtype": "f8"
         },
         "yaxis": "y"
        }
       ],
       "layout": {
        "barmode": "relative",
        "legend": {
         "tracegroupgap": 0
        },
        "margin": {
         "t": 60
        },
        "template": {
         "data": {
          "bar": [
           {
            "error_x": {
             "color": "#2a3f5f"
            },
            "error_y": {
             "color": "#2a3f5f"
            },
            "marker": {
             "line": {
              "color": "#E5ECF6",
              "width": 0.5
             },
             "pattern": {
              "fillmode": "overlay",
              "size": 10,
              "solidity": 0.2
             }
            },
            "type": "bar"
           }
          ],
          "barpolar": [
           {
            "marker": {
             "line": {
              "color": "#E5ECF6",
              "width": 0.5
             },
             "pattern": {
              "fillmode": "overlay",
              "size": 10,
              "solidity": 0.2
             }
            },
            "type": "barpolar"
           }
          ],
          "carpet": [
           {
            "aaxis": {
             "endlinecolor": "#2a3f5f",
             "gridcolor": "white",
             "linecolor": "white",
             "minorgridcolor": "white",
             "startlinecolor": "#2a3f5f"
            },
            "baxis": {
             "endlinecolor": "#2a3f5f",
             "gridcolor": "white",
             "linecolor": "white",
             "minorgridcolor": "white",
             "startlinecolor": "#2a3f5f"
            },
            "type": "carpet"
           }
          ],
          "choropleth": [
           {
            "colorbar": {
             "outlinewidth": 0,
             "ticks": ""
            },
            "type": "choropleth"
           }
          ],
          "contour": [
           {
            "colorbar": {
             "outlinewidth": 0,
             "ticks": ""
            },
            "colorscale": [
             [
              0,
              "#0d0887"
             ],
             [
              0.1111111111111111,
              "#46039f"
             ],
             [
              0.2222222222222222,
              "#7201a8"
             ],
             [
              0.3333333333333333,
              "#9c179e"
             ],
             [
              0.4444444444444444,
              "#bd3786"
             ],
             [
              0.5555555555555556,
              "#d8576b"
             ],
             [
              0.6666666666666666,
              "#ed7953"
             ],
             [
              0.7777777777777778,
              "#fb9f3a"
             ],
             [
              0.8888888888888888,
              "#fdca26"
             ],
             [
              1,
              "#f0f921"
             ]
            ],
            "type": "contour"
           }
          ],
          "contourcarpet": [
           {
            "colorbar": {
             "outlinewidth": 0,
             "ticks": ""
            },
            "type": "contourcarpet"
           }
          ],
          "heatmap": [
           {
            "colorbar": {
             "outlinewidth": 0,
             "ticks": ""
            },
            "colorscale": [
             [
              0,
              "#0d0887"
             ],
             [
              0.1111111111111111,
              "#46039f"
             ],
             [
              0.2222222222222222,
              "#7201a8"
             ],
             [
              0.3333333333333333,
              "#9c179e"
             ],
             [
              0.4444444444444444,
              "#bd3786"
             ],
             [
              0.5555555555555556,
              "#d8576b"
             ],
             [
              0.6666666666666666,
              "#ed7953"
             ],
             [
              0.7777777777777778,
              "#fb9f3a"
             ],
             [
              0.8888888888888888,
              "#fdca26"
             ],
             [
              1,
              "#f0f921"
             ]
            ],
            "type": "heatmap"
           }
          ],
          "histogram": [
           {
            "marker": {
             "pattern": {
              "fillmode": "overlay",
              "size": 10,
              "solidity": 0.2
             }
            },
            "type": "histogram"
           }
          ],
          "histogram2d": [
           {
            "colorbar": {
             "outlinewidth": 0,
             "ticks": ""
            },
            "colorscale": [
             [
              0,
              "#0d0887"
             ],
             [
              0.1111111111111111,
              "#46039f"
             ],
             [
              0.2222222222222222,
              "#7201a8"
             ],
             [
              0.3333333333333333,
              "#9c179e"
             ],
             [
              0.4444444444444444,
              "#bd3786"
             ],
             [
              0.5555555555555556,
              "#d8576b"
             ],
             [
              0.6666666666666666,
              "#ed7953"
             ],
             [
              0.7777777777777778,
              "#fb9f3a"
             ],
             [
              0.8888888888888888,
              "#fdca26"
             ],
             [
              1,
              "#f0f921"
             ]
            ],
            "type": "histogram2d"
           }
          ],
          "histogram2dcontour": [
           {
            "colorbar": {
             "outlinewidth": 0,
             "ticks": ""
            },
            "colorscale": [
             [
              0,
              "#0d0887"
             ],
             [
              0.1111111111111111,
              "#46039f"
             ],
             [
              0.2222222222222222,
              "#7201a8"
             ],
             [
              0.3333333333333333,
              "#9c179e"
             ],
             [
              0.4444444444444444,
              "#bd3786"
             ],
             [
              0.5555555555555556,
              "#d8576b"
             ],
             [
              0.6666666666666666,
              "#ed7953"
             ],
             [
              0.7777777777777778,
              "#fb9f3a"
             ],
             [
              0.8888888888888888,
              "#fdca26"
             ],
             [
              1,
              "#f0f921"
             ]
            ],
            "type": "histogram2dcontour"
           }
          ],
          "mesh3d": [
           {
            "colorbar": {
             "outlinewidth": 0,
             "ticks": ""
            },
            "type": "mesh3d"
           }
          ],
          "parcoords": [
           {
            "line": {
             "colorbar": {
              "outlinewidth": 0,
              "ticks": ""
             }
            },
            "type": "parcoords"
           }
          ],
          "pie": [
           {
            "automargin": true,
            "type": "pie"
           }
          ],
          "scatter": [
           {
            "fillpattern": {
             "fillmode": "overlay",
             "size": 10,
             "solidity": 0.2
            },
            "type": "scatter"
           }
          ],
          "scatter3d": [
           {
            "line": {
             "colorbar": {
              "outlinewidth": 0,
              "ticks": ""
             }
            },
            "marker": {
             "colorbar": {
              "outlinewidth": 0,
              "ticks": ""
             }
            },
            "type": "scatter3d"
           }
          ],
          "scattercarpet": [
           {
            "marker": {
             "colorbar": {
              "outlinewidth": 0,
              "ticks": ""
             }
            },
            "type": "scattercarpet"
           }
          ],
          "scattergeo": [
           {
            "marker": {
             "colorbar": {
              "outlinewidth": 0,
              "ticks": ""
             }
            },
            "type": "scattergeo"
           }
          ],
          "scattergl": [
           {
            "marker": {
             "colorbar": {
              "outlinewidth": 0,
              "ticks": ""
             }
            },
            "type": "scattergl"
           }
          ],
          "scattermap": [
           {
            "marker": {
             "colorbar": {
              "outlinewidth": 0,
              "ticks": ""
             }
            },
            "type": "scattermap"
           }
          ],
          "scattermapbox": [
           {
            "marker": {
             "colorbar": {
              "outlinewidth": 0,
              "ticks": ""
             }
            },
            "type": "scattermapbox"
           }
          ],
          "scatterpolar": [
           {
            "marker": {
             "colorbar": {
              "outlinewidth": 0,
              "ticks": ""
             }
            },
            "type": "scatterpolar"
           }
          ],
          "scatterpolargl": [
           {
            "marker": {
             "colorbar": {
              "outlinewidth": 0,
              "ticks": ""
             }
            },
            "type": "scatterpolargl"
           }
          ],
          "scatterternary": [
           {
            "marker": {
             "colorbar": {
              "outlinewidth": 0,
              "ticks": ""
             }
            },
            "type": "scatterternary"
           }
          ],
          "surface": [
           {
            "colorbar": {
             "outlinewidth": 0,
             "ticks": ""
            },
            "colorscale": [
             [
              0,
              "#0d0887"
             ],
             [
              0.1111111111111111,
              "#46039f"
             ],
             [
              0.2222222222222222,
              "#7201a8"
             ],
             [
              0.3333333333333333,
              "#9c179e"
             ],
             [
              0.4444444444444444,
              "#bd3786"
             ],
             [
              0.5555555555555556,
              "#d8576b"
             ],
             [
              0.6666666666666666,
              "#ed7953"
             ],
             [
              0.7777777777777778,
              "#fb9f3a"
             ],
             [
              0.8888888888888888,
              "#fdca26"
             ],
             [
              1,
              "#f0f921"
             ]
            ],
            "type": "surface"
           }
          ],
          "table": [
           {
            "cells": {
             "fill": {
              "color": "#EBF0F8"
             },
             "line": {
              "color": "white"
             }
            },
            "header": {
             "fill": {
              "color": "#C8D4E3"
             },
             "line": {
              "color": "white"
             }
            },
            "type": "table"
           }
          ]
         },
         "layout": {
          "annotationdefaults": {
           "arrowcolor": "#2a3f5f",
           "arrowhead": 0,
           "arrowwidth": 1
          },
          "autotypenumbers": "strict",
          "coloraxis": {
           "colorbar": {
            "outlinewidth": 0,
            "ticks": ""
           }
          },
          "colorscale": {
           "diverging": [
            [
             0,
             "#8e0152"
            ],
            [
             0.1,
             "#c51b7d"
            ],
            [
             0.2,
             "#de77ae"
            ],
            [
             0.3,
             "#f1b6da"
            ],
            [
             0.4,
             "#fde0ef"
            ],
            [
             0.5,
             "#f7f7f7"
            ],
            [
             0.6,
             "#e6f5d0"
            ],
            [
             0.7,
             "#b8e186"
            ],
            [
             0.8,
             "#7fbc41"
            ],
            [
             0.9,
             "#4d9221"
            ],
            [
             1,
             "#276419"
            ]
           ],
           "sequential": [
            [
             0,
             "#0d0887"
            ],
            [
             0.1111111111111111,
             "#46039f"
            ],
            [
             0.2222222222222222,
             "#7201a8"
            ],
            [
             0.3333333333333333,
             "#9c179e"
            ],
            [
             0.4444444444444444,
             "#bd3786"
            ],
            [
             0.5555555555555556,
             "#d8576b"
            ],
            [
             0.6666666666666666,
             "#ed7953"
            ],
            [
             0.7777777777777778,
             "#fb9f3a"
            ],
            [
             0.8888888888888888,
             "#fdca26"
            ],
            [
             1,
             "#f0f921"
            ]
           ],
           "sequentialminus": [
            [
             0,
             "#0d0887"
            ],
            [
             0.1111111111111111,
             "#46039f"
            ],
            [
             0.2222222222222222,
             "#7201a8"
            ],
            [
             0.3333333333333333,
             "#9c179e"
            ],
            [
             0.4444444444444444,
             "#bd3786"
            ],
            [
             0.5555555555555556,
             "#d8576b"
            ],
            [
             0.6666666666666666,
             "#ed7953"
            ],
            [
             0.7777777777777778,
             "#fb9f3a"
            ],
            [
             0.8888888888888888,
             "#fdca26"
            ],
            [
             1,
             "#f0f921"
            ]
           ]
          },
          "colorway": [
           "#636efa",
           "#EF553B",
           "#00cc96",
           "#ab63fa",
           "#FFA15A",
           "#19d3f3",
           "#FF6692",
           "#B6E880",
           "#FF97FF",
           "#FECB52"
          ],
          "font": {
           "color": "#2a3f5f"
          },
          "geo": {
           "bgcolor": "white",
           "lakecolor": "white",
           "landcolor": "#E5ECF6",
           "showlakes": true,
           "showland": true,
           "subunitcolor": "white"
          },
          "hoverlabel": {
           "align": "left"
          },
          "hovermode": "closest",
          "mapbox": {
           "style": "light"
          },
          "paper_bgcolor": "white",
          "plot_bgcolor": "#E5ECF6",
          "polar": {
           "angularaxis": {
            "gridcolor": "white",
            "linecolor": "white",
            "ticks": ""
           },
           "bgcolor": "#E5ECF6",
           "radialaxis": {
            "gridcolor": "white",
            "linecolor": "white",
            "ticks": ""
           }
          },
          "scene": {
           "xaxis": {
            "backgroundcolor": "#E5ECF6",
            "gridcolor": "white",
            "gridwidth": 2,
            "linecolor": "white",
            "showbackground": true,
            "ticks": "",
            "zerolinecolor": "white"
           },
           "yaxis": {
            "backgroundcolor": "#E5ECF6",
            "gridcolor": "white",
            "gridwidth": 2,
            "linecolor": "white",
            "showbackground": true,
            "ticks": "",
            "zerolinecolor": "white"
           },
           "zaxis": {
            "backgroundcolor": "#E5ECF6",
            "gridcolor": "white",
            "gridwidth": 2,
            "linecolor": "white",
            "showbackground": true,
            "ticks": "",
            "zerolinecolor": "white"
           }
          },
          "shapedefaults": {
           "line": {
            "color": "#2a3f5f"
           }
          },
          "ternary": {
           "aaxis": {
            "gridcolor": "white",
            "linecolor": "white",
            "ticks": ""
           },
           "baxis": {
            "gridcolor": "white",
            "linecolor": "white",
            "ticks": ""
           },
           "bgcolor": "#E5ECF6",
           "caxis": {
            "gridcolor": "white",
            "linecolor": "white",
            "ticks": ""
           }
          },
          "title": {
           "x": 0.05
          },
          "xaxis": {
           "automargin": true,
           "gridcolor": "white",
           "linecolor": "white",
           "ticks": "",
           "title": {
            "standoff": 15
           },
           "zerolinecolor": "white",
           "zerolinewidth": 2
          },
          "yaxis": {
           "automargin": true,
           "gridcolor": "white",
           "linecolor": "white",
           "ticks": "",
           "title": {
            "standoff": 15
           },
           "zerolinecolor": "white",
           "zerolinewidth": 2
          }
         }
        },
        "xaxis": {
         "anchor": "y",
         "domain": [
          0,
          1
         ],
         "title": {
          "text": "date"
         }
        },
        "yaxis": {
         "anchor": "x",
         "domain": [
          0,
          1
         ],
         "title": {
          "text": "rain"
         }
        }
       }
      }
     },
     "metadata": {},
     "output_type": "display_data"
    }
   ],
   "source": [
    "fig = px.bar(monthly_df, x=monthly_df['date'], y=monthly_df['rain'])\n",
    "fig.show()"
   ]
  },
  {
   "cell_type": "code",
   "execution_count": 37,
   "id": "e1237481",
   "metadata": {},
   "outputs": [
    {
     "data": {
      "application/vnd.plotly.v1+json": {
       "config": {
        "plotlyServerURL": "https://plot.ly"
       },
       "data": [
        {
         "type": "bar",
         "x": [
          "2023-05-01T00:00:00.000000000",
          "2023-05-02T00:00:00.000000000",
          "2023-05-03T00:00:00.000000000",
          "2023-05-04T00:00:00.000000000",
          "2023-05-05T00:00:00.000000000",
          "2023-05-06T00:00:00.000000000",
          "2023-05-07T00:00:00.000000000",
          "2023-05-08T00:00:00.000000000",
          "2023-05-09T00:00:00.000000000",
          "2023-05-10T00:00:00.000000000",
          "2023-05-11T00:00:00.000000000",
          "2023-05-12T00:00:00.000000000",
          "2023-05-13T00:00:00.000000000",
          "2023-05-14T00:00:00.000000000",
          "2023-05-15T00:00:00.000000000",
          "2023-05-16T00:00:00.000000000",
          "2023-05-17T00:00:00.000000000",
          "2023-05-18T00:00:00.000000000",
          "2023-05-19T00:00:00.000000000",
          "2023-05-20T00:00:00.000000000",
          "2023-05-21T00:00:00.000000000",
          "2023-05-22T00:00:00.000000000",
          "2023-05-23T00:00:00.000000000",
          "2023-05-24T00:00:00.000000000",
          "2023-05-25T00:00:00.000000000",
          "2023-05-26T00:00:00.000000000",
          "2023-05-27T00:00:00.000000000",
          "2023-05-28T00:00:00.000000000",
          "2023-05-29T00:00:00.000000000",
          "2023-05-30T00:00:00.000000000",
          "2023-05-31T00:00:00.000000000"
         ],
         "y": {
          "bdata": "AAAAAAAAAAAAAAAAAAAAAERERERERNw/m5mZmZmZuT8AAAAAAAAAABEREREREZE/AAAAAAAAAAAAAAAAAAAAABEREREREXE/MzMzMzMzoz8RERERERGRPxEREREREXE/eHd3d3d3pz8AAAAAAAAAAJuZmZmZmZk/Z2ZmZmZm0j/v7u7u7u7SPwEAAAAAAOQ/vLu7u7u78j9VVVVVVVXFPwAAAAAAAAAAAAAAAAAAAABVVVVVVVW1P3d3d3d3d9M/mZmZmZmZ1T/d3d3d3d3tP4mIiIiIiMg/iYiIiIiIuD8AAAAAAAAAAN3d3d3d3Z0/3d3d3d3drT8=",
          "dtype": "f8"
         }
        }
       ],
       "layout": {
        "template": {
         "data": {
          "bar": [
           {
            "error_x": {
             "color": "#2a3f5f"
            },
            "error_y": {
             "color": "#2a3f5f"
            },
            "marker": {
             "line": {
              "color": "#E5ECF6",
              "width": 0.5
             },
             "pattern": {
              "fillmode": "overlay",
              "size": 10,
              "solidity": 0.2
             }
            },
            "type": "bar"
           }
          ],
          "barpolar": [
           {
            "marker": {
             "line": {
              "color": "#E5ECF6",
              "width": 0.5
             },
             "pattern": {
              "fillmode": "overlay",
              "size": 10,
              "solidity": 0.2
             }
            },
            "type": "barpolar"
           }
          ],
          "carpet": [
           {
            "aaxis": {
             "endlinecolor": "#2a3f5f",
             "gridcolor": "white",
             "linecolor": "white",
             "minorgridcolor": "white",
             "startlinecolor": "#2a3f5f"
            },
            "baxis": {
             "endlinecolor": "#2a3f5f",
             "gridcolor": "white",
             "linecolor": "white",
             "minorgridcolor": "white",
             "startlinecolor": "#2a3f5f"
            },
            "type": "carpet"
           }
          ],
          "choropleth": [
           {
            "colorbar": {
             "outlinewidth": 0,
             "ticks": ""
            },
            "type": "choropleth"
           }
          ],
          "contour": [
           {
            "colorbar": {
             "outlinewidth": 0,
             "ticks": ""
            },
            "colorscale": [
             [
              0,
              "#0d0887"
             ],
             [
              0.1111111111111111,
              "#46039f"
             ],
             [
              0.2222222222222222,
              "#7201a8"
             ],
             [
              0.3333333333333333,
              "#9c179e"
             ],
             [
              0.4444444444444444,
              "#bd3786"
             ],
             [
              0.5555555555555556,
              "#d8576b"
             ],
             [
              0.6666666666666666,
              "#ed7953"
             ],
             [
              0.7777777777777778,
              "#fb9f3a"
             ],
             [
              0.8888888888888888,
              "#fdca26"
             ],
             [
              1,
              "#f0f921"
             ]
            ],
            "type": "contour"
           }
          ],
          "contourcarpet": [
           {
            "colorbar": {
             "outlinewidth": 0,
             "ticks": ""
            },
            "type": "contourcarpet"
           }
          ],
          "heatmap": [
           {
            "colorbar": {
             "outlinewidth": 0,
             "ticks": ""
            },
            "colorscale": [
             [
              0,
              "#0d0887"
             ],
             [
              0.1111111111111111,
              "#46039f"
             ],
             [
              0.2222222222222222,
              "#7201a8"
             ],
             [
              0.3333333333333333,
              "#9c179e"
             ],
             [
              0.4444444444444444,
              "#bd3786"
             ],
             [
              0.5555555555555556,
              "#d8576b"
             ],
             [
              0.6666666666666666,
              "#ed7953"
             ],
             [
              0.7777777777777778,
              "#fb9f3a"
             ],
             [
              0.8888888888888888,
              "#fdca26"
             ],
             [
              1,
              "#f0f921"
             ]
            ],
            "type": "heatmap"
           }
          ],
          "histogram": [
           {
            "marker": {
             "pattern": {
              "fillmode": "overlay",
              "size": 10,
              "solidity": 0.2
             }
            },
            "type": "histogram"
           }
          ],
          "histogram2d": [
           {
            "colorbar": {
             "outlinewidth": 0,
             "ticks": ""
            },
            "colorscale": [
             [
              0,
              "#0d0887"
             ],
             [
              0.1111111111111111,
              "#46039f"
             ],
             [
              0.2222222222222222,
              "#7201a8"
             ],
             [
              0.3333333333333333,
              "#9c179e"
             ],
             [
              0.4444444444444444,
              "#bd3786"
             ],
             [
              0.5555555555555556,
              "#d8576b"
             ],
             [
              0.6666666666666666,
              "#ed7953"
             ],
             [
              0.7777777777777778,
              "#fb9f3a"
             ],
             [
              0.8888888888888888,
              "#fdca26"
             ],
             [
              1,
              "#f0f921"
             ]
            ],
            "type": "histogram2d"
           }
          ],
          "histogram2dcontour": [
           {
            "colorbar": {
             "outlinewidth": 0,
             "ticks": ""
            },
            "colorscale": [
             [
              0,
              "#0d0887"
             ],
             [
              0.1111111111111111,
              "#46039f"
             ],
             [
              0.2222222222222222,
              "#7201a8"
             ],
             [
              0.3333333333333333,
              "#9c179e"
             ],
             [
              0.4444444444444444,
              "#bd3786"
             ],
             [
              0.5555555555555556,
              "#d8576b"
             ],
             [
              0.6666666666666666,
              "#ed7953"
             ],
             [
              0.7777777777777778,
              "#fb9f3a"
             ],
             [
              0.8888888888888888,
              "#fdca26"
             ],
             [
              1,
              "#f0f921"
             ]
            ],
            "type": "histogram2dcontour"
           }
          ],
          "mesh3d": [
           {
            "colorbar": {
             "outlinewidth": 0,
             "ticks": ""
            },
            "type": "mesh3d"
           }
          ],
          "parcoords": [
           {
            "line": {
             "colorbar": {
              "outlinewidth": 0,
              "ticks": ""
             }
            },
            "type": "parcoords"
           }
          ],
          "pie": [
           {
            "automargin": true,
            "type": "pie"
           }
          ],
          "scatter": [
           {
            "fillpattern": {
             "fillmode": "overlay",
             "size": 10,
             "solidity": 0.2
            },
            "type": "scatter"
           }
          ],
          "scatter3d": [
           {
            "line": {
             "colorbar": {
              "outlinewidth": 0,
              "ticks": ""
             }
            },
            "marker": {
             "colorbar": {
              "outlinewidth": 0,
              "ticks": ""
             }
            },
            "type": "scatter3d"
           }
          ],
          "scattercarpet": [
           {
            "marker": {
             "colorbar": {
              "outlinewidth": 0,
              "ticks": ""
             }
            },
            "type": "scattercarpet"
           }
          ],
          "scattergeo": [
           {
            "marker": {
             "colorbar": {
              "outlinewidth": 0,
              "ticks": ""
             }
            },
            "type": "scattergeo"
           }
          ],
          "scattergl": [
           {
            "marker": {
             "colorbar": {
              "outlinewidth": 0,
              "ticks": ""
             }
            },
            "type": "scattergl"
           }
          ],
          "scattermap": [
           {
            "marker": {
             "colorbar": {
              "outlinewidth": 0,
              "ticks": ""
             }
            },
            "type": "scattermap"
           }
          ],
          "scattermapbox": [
           {
            "marker": {
             "colorbar": {
              "outlinewidth": 0,
              "ticks": ""
             }
            },
            "type": "scattermapbox"
           }
          ],
          "scatterpolar": [
           {
            "marker": {
             "colorbar": {
              "outlinewidth": 0,
              "ticks": ""
             }
            },
            "type": "scatterpolar"
           }
          ],
          "scatterpolargl": [
           {
            "marker": {
             "colorbar": {
              "outlinewidth": 0,
              "ticks": ""
             }
            },
            "type": "scatterpolargl"
           }
          ],
          "scatterternary": [
           {
            "marker": {
             "colorbar": {
              "outlinewidth": 0,
              "ticks": ""
             }
            },
            "type": "scatterternary"
           }
          ],
          "surface": [
           {
            "colorbar": {
             "outlinewidth": 0,
             "ticks": ""
            },
            "colorscale": [
             [
              0,
              "#0d0887"
             ],
             [
              0.1111111111111111,
              "#46039f"
             ],
             [
              0.2222222222222222,
              "#7201a8"
             ],
             [
              0.3333333333333333,
              "#9c179e"
             ],
             [
              0.4444444444444444,
              "#bd3786"
             ],
             [
              0.5555555555555556,
              "#d8576b"
             ],
             [
              0.6666666666666666,
              "#ed7953"
             ],
             [
              0.7777777777777778,
              "#fb9f3a"
             ],
             [
              0.8888888888888888,
              "#fdca26"
             ],
             [
              1,
              "#f0f921"
             ]
            ],
            "type": "surface"
           }
          ],
          "table": [
           {
            "cells": {
             "fill": {
              "color": "#EBF0F8"
             },
             "line": {
              "color": "white"
             }
            },
            "header": {
             "fill": {
              "color": "#C8D4E3"
             },
             "line": {
              "color": "white"
             }
            },
            "type": "table"
           }
          ]
         },
         "layout": {
          "annotationdefaults": {
           "arrowcolor": "#2a3f5f",
           "arrowhead": 0,
           "arrowwidth": 1
          },
          "autotypenumbers": "strict",
          "coloraxis": {
           "colorbar": {
            "outlinewidth": 0,
            "ticks": ""
           }
          },
          "colorscale": {
           "diverging": [
            [
             0,
             "#8e0152"
            ],
            [
             0.1,
             "#c51b7d"
            ],
            [
             0.2,
             "#de77ae"
            ],
            [
             0.3,
             "#f1b6da"
            ],
            [
             0.4,
             "#fde0ef"
            ],
            [
             0.5,
             "#f7f7f7"
            ],
            [
             0.6,
             "#e6f5d0"
            ],
            [
             0.7,
             "#b8e186"
            ],
            [
             0.8,
             "#7fbc41"
            ],
            [
             0.9,
             "#4d9221"
            ],
            [
             1,
             "#276419"
            ]
           ],
           "sequential": [
            [
             0,
             "#0d0887"
            ],
            [
             0.1111111111111111,
             "#46039f"
            ],
            [
             0.2222222222222222,
             "#7201a8"
            ],
            [
             0.3333333333333333,
             "#9c179e"
            ],
            [
             0.4444444444444444,
             "#bd3786"
            ],
            [
             0.5555555555555556,
             "#d8576b"
            ],
            [
             0.6666666666666666,
             "#ed7953"
            ],
            [
             0.7777777777777778,
             "#fb9f3a"
            ],
            [
             0.8888888888888888,
             "#fdca26"
            ],
            [
             1,
             "#f0f921"
            ]
           ],
           "sequentialminus": [
            [
             0,
             "#0d0887"
            ],
            [
             0.1111111111111111,
             "#46039f"
            ],
            [
             0.2222222222222222,
             "#7201a8"
            ],
            [
             0.3333333333333333,
             "#9c179e"
            ],
            [
             0.4444444444444444,
             "#bd3786"
            ],
            [
             0.5555555555555556,
             "#d8576b"
            ],
            [
             0.6666666666666666,
             "#ed7953"
            ],
            [
             0.7777777777777778,
             "#fb9f3a"
            ],
            [
             0.8888888888888888,
             "#fdca26"
            ],
            [
             1,
             "#f0f921"
            ]
           ]
          },
          "colorway": [
           "#636efa",
           "#EF553B",
           "#00cc96",
           "#ab63fa",
           "#FFA15A",
           "#19d3f3",
           "#FF6692",
           "#B6E880",
           "#FF97FF",
           "#FECB52"
          ],
          "font": {
           "color": "#2a3f5f"
          },
          "geo": {
           "bgcolor": "white",
           "lakecolor": "white",
           "landcolor": "#E5ECF6",
           "showlakes": true,
           "showland": true,
           "subunitcolor": "white"
          },
          "hoverlabel": {
           "align": "left"
          },
          "hovermode": "closest",
          "mapbox": {
           "style": "light"
          },
          "paper_bgcolor": "white",
          "plot_bgcolor": "#E5ECF6",
          "polar": {
           "angularaxis": {
            "gridcolor": "white",
            "linecolor": "white",
            "ticks": ""
           },
           "bgcolor": "#E5ECF6",
           "radialaxis": {
            "gridcolor": "white",
            "linecolor": "white",
            "ticks": ""
           }
          },
          "scene": {
           "xaxis": {
            "backgroundcolor": "#E5ECF6",
            "gridcolor": "white",
            "gridwidth": 2,
            "linecolor": "white",
            "showbackground": true,
            "ticks": "",
            "zerolinecolor": "white"
           },
           "yaxis": {
            "backgroundcolor": "#E5ECF6",
            "gridcolor": "white",
            "gridwidth": 2,
            "linecolor": "white",
            "showbackground": true,
            "ticks": "",
            "zerolinecolor": "white"
           },
           "zaxis": {
            "backgroundcolor": "#E5ECF6",
            "gridcolor": "white",
            "gridwidth": 2,
            "linecolor": "white",
            "showbackground": true,
            "ticks": "",
            "zerolinecolor": "white"
           }
          },
          "shapedefaults": {
           "line": {
            "color": "#2a3f5f"
           }
          },
          "ternary": {
           "aaxis": {
            "gridcolor": "white",
            "linecolor": "white",
            "ticks": ""
           },
           "baxis": {
            "gridcolor": "white",
            "linecolor": "white",
            "ticks": ""
           },
           "bgcolor": "#E5ECF6",
           "caxis": {
            "gridcolor": "white",
            "linecolor": "white",
            "ticks": ""
           }
          },
          "title": {
           "x": 0.05
          },
          "xaxis": {
           "automargin": true,
           "gridcolor": "white",
           "linecolor": "white",
           "ticks": "",
           "title": {
            "standoff": 15
           },
           "zerolinecolor": "white",
           "zerolinewidth": 2
          },
          "yaxis": {
           "automargin": true,
           "gridcolor": "white",
           "linecolor": "white",
           "ticks": "",
           "title": {
            "standoff": 15
           },
           "zerolinecolor": "white",
           "zerolinewidth": 2
          }
         }
        }
       }
      }
     },
     "metadata": {},
     "output_type": "display_data"
    }
   ],
   "source": [
    "fig = go.Figure(go.Bar(x=monthly_df['date'], y=monthly_df['rain']))\n",
    "fig.show()"
   ]
  }
 ],
 "metadata": {
  "kernelspec": {
   "display_name": "venv",
   "language": "python",
   "name": "python3"
  },
  "language_info": {
   "codemirror_mode": {
    "name": "ipython",
    "version": 3
   },
   "file_extension": ".py",
   "mimetype": "text/x-python",
   "name": "python",
   "nbconvert_exporter": "python",
   "pygments_lexer": "ipython3",
   "version": "3.12.5"
  }
 },
 "nbformat": 4,
 "nbformat_minor": 5
}
